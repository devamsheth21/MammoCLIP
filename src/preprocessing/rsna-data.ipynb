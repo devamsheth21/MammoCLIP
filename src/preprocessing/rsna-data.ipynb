{
 "cells": [
  {
   "cell_type": "code",
   "execution_count": 19,
   "metadata": {},
   "outputs": [],
   "source": [
    "import pandas as pd"
   ]
  },
  {
   "cell_type": "code",
   "execution_count": 5,
   "metadata": {},
   "outputs": [
    {
     "name": "stdout",
     "output_type": "stream",
     "text": [
      "dict_keys(['model', 'predictions', 'epoch', 'accuracy', 'f1'])\n"
     ]
    }
   ],
   "source": [
    "import torch \n",
    "\n",
    "m = torch.load('/mnt/storage/Devam/mammo-clip-github/checkpoints/RSNA/Classifier/upmc_breast_clip_det_b5_period_n_lp/lr_5e-05_epochs_30_weighted_BCE_y_BIRADS_data_frac_1.0/upmc_breast_clip_det_b5_period_n_lp_seed_10_fold0_best_acc_cancer_ver084.pth')\n",
    "print(m.keys())"
   ]
  },
  {
   "cell_type": "code",
   "execution_count": null,
   "metadata": {},
   "outputs": [],
   "source": [
    "python ./src/preprocessing/preprocess_image_to_png_kaggle.py --phase=\"train\" --base_folder=\"/mnt/storage/breast_cancer_kaggle\"\n",
    "\n"
   ]
  },
  {
   "cell_type": "code",
   "execution_count": null,
   "metadata": {},
   "outputs": [],
   "source": [
    "kaggle datasets download -d shantanughosh/vindr-mammogram-dataset-dicom-to-png"
   ]
  },
  {
   "cell_type": "markdown",
   "metadata": {},
   "source": [
    "## Mass Classification with Fine-tuning"
   ]
  },
  {
   "cell_type": "code",
   "execution_count": null,
   "metadata": {},
   "outputs": [],
   "source": [
    "python ./src/codebase/train_classifier.py \n",
    "  --tensorboard-path '/mnt/storage/Devam/mammo-clip-github/tensorboard_logs'\n",
    "  --checkpoints '/mnt/storage/Devam/mammo-clip-github/checkpoints'\n",
    "  --output_path '/mnt/storage/Devam/mammo-clip-github/output'\n",
    "  --data-dir '/mnt/storage/breast_cancer_kaggle/mammo_clip' \n",
    "  --img-dir '/mnt/storage/Devam/mammo-clip-github/images_png' \n",
    "  --csv-file '/mnt/storage/Devam/mammo-clip-github/Mammo-CLIP/src/codebase/data_csv/vindr_detection_v1_folds.csv' \n",
    "  --clip_chk_pt_path \"/mnt/storage/Devam/mammo-clip-github/b5-model-best-epoch-7.tar\" \n",
    "  --data_frac 1.0 \n",
    "  --dataset 'ViNDr' \n",
    "  --arch 'upmc_breast_clip_det_b5_period_n_ft' \n",
    "  --label \"Mass\" \n",
    "  --epochs 30 \n",
    "  --batch-size 8 \n",
    "  --num-workers 0 \n",
    "  --print-freq 10000 \n",
    "  --log-freq 500 \n",
    "  --running-interactive 'n' \n",
    "  --n_folds 1 \n",
    "  --lr 5.0e-5 \n",
    "  --weighted-BCE 'y' \n",
    "  --balanced-dataloader 'n'"
   ]
  },
  {
   "cell_type": "code",
   "execution_count": 1,
   "metadata": {},
   "outputs": [
    {
     "name": "stdout",
     "output_type": "stream",
     "text": [
      "/mnt/storage/Devam/mammo-clip-github/Mammo-CLIP/src/codebase\n"
     ]
    }
   ],
   "source": [
    "%cd /mnt/storage/Devam/mammo-clip-github/Mammo-CLIP/src/codebase"
   ]
  },
  {
   "cell_type": "code",
   "execution_count": 2,
   "metadata": {},
   "outputs": [
    {
     "name": "stderr",
     "output_type": "stream",
     "text": [
      "INFO:albumentations.check_version:A new version of Albumentations is available: 1.4.12 (you have 1.4.7). Upgrade using: pip install --upgrade albumentations\n",
      "/home/devam/miniconda3/envs/Mammo-CLIP/lib/python3.8/site-packages/tqdm/auto.py:21: TqdmWarning: IProgress not found. Please update jupyter and ipywidgets. See https://ipywidgets.readthedocs.io/en/stable/user_install.html\n",
      "  from .autonotebook import tqdm as notebook_tqdm\n"
     ]
    }
   ],
   "source": [
    "from Classifiers.models.breast_clip_classifier import BreastClipClassifier"
   ]
  },
  {
   "cell_type": "code",
   "execution_count": 3,
   "metadata": {},
   "outputs": [],
   "source": [
    "ckpt = '/mnt/storage/Devam/mammo-clip-github/b5-model-best-epoch-7.tar'\n",
    "n_class = 1"
   ]
  },
  {
   "cell_type": "code",
   "execution_count": 4,
   "metadata": {},
   "outputs": [],
   "source": [
    "import torch\n",
    "model = torch.load(ckpt,map_location=\"cpu\")"
   ]
  },
  {
   "cell_type": "code",
   "execution_count": 10,
   "metadata": {},
   "outputs": [
    {
     "name": "stdout",
     "output_type": "stream",
     "text": [
      "{'config': {'base': {'period': 'n', 'resume_training': False, 'epoch_to_start': 0, 'train_fast': False, 'fold': 0, 'seed': 10, 'amp': True, 'mean': 0.3089279, 'std': 0.25053555408335154, 'image_size_h': 1520, 'image_size_w': 912, 'text_max_length': 256, 'loss_best': 'contrastive', 'data_frac': 1.0, 'zs_prompts': {'upmc': ['birads category 0', 'birads category 1', 'birads category 2'], 'rsna': ['no malignancy', 'malignancy']}, 'output': {'args_path': '/ocean/projects/asc170022p/shg121/PhD/Breast-CLIP/src/codebase/outputs/upmc_clip/b5_detector_period_n', 'checkpoint': '/ocean/projects/asc170022p/shg121/PhD/Breast-CLIP/src/codebase/outputs/upmc_clip/b5_detector_period_n/checkpoints/', 'tensorboard': '/ocean/projects/asc170022p/shg121/PhD/Breast-CLIP/src/codebase/outputs/upmc_clip/b5_detector_period_n/tensorboard/'}}, 'data_train': {'upmc_wo_period': {'name': 'upmc', 'data_type': 'imagetext', 'data_dir': '/ocean/projects/asc170022p/shg121/PhD/RSNA_Breast_Imaging/Dataset', 'img_dir': 'External/UPMC/DICOM/images_png_CC_MLO', 'data_path': 'External/UPMC/upmc_breast_clip_without_period_lower_case.csv', 'text_max_length': 256, 'data_frac': 1.0}}, 'data_zs': {'upmc_zs': {'name': 'upmc', 'data_type': 'image_classification', 'data_dir': '/ocean/projects/asc170022p/shg121/PhD/RSNA_Breast_Imaging/Dataset', 'img_dir': 'External/UPMC/DICOM/images_png_CC_MLO', 'data_path': 'External/UPMC/upmc_dicom_consolidated_final_folds_BIRADS_num_1_report.csv', 'text_max_length': 256, 'data_frac': 1.0, 'label_col': 'BIRADS_numeric'}}, 'dataloader': {'train': {'pin_memory': True, 'shuffle': True, 'drop_last': True, 'num_workers': 0, 'prefetch_factor': 2, 'batch_size': 4}, 'valid': {'pin_memory': True, 'shuffle': False, 'drop_last': False, 'num_workers': 0, 'prefetch_factor': 2, 'batch_size': 4}, 'test': {'pin_memory': True, 'shuffle': False, 'drop_last': False, 'num_workers': 4, 'batch_size': 6}}, 'tokenizer': {'source': 'huggingface', 'pretrained_model_name_or_path': 'emilyalsentzer/Bio_ClinicalBERT', 'cache_dir': '/ocean/projects/asc170022p/shg121/PhD/Breast-CLIP/src/codebase/outputs/huggingface/tokenizers'}, 'transform': {'train': {'Resize': {'size_h': 1520, 'size_w': 912}, 'transform': {'affine_transform_degree': 20, 'affine_translate_percent': 0.1, 'affine_scale': [0.8, 1.2], 'affine_shear': 20, 'elastic_transform_alpha': 10, 'elastic_transform_sigma': 15, 'p': 1.0}}, 'valid': {'Resize': {'size_h': 1520, 'size_w': 912}}, 'test': {'Resize': {'size_h': 1520, 'size_w': 912}}}, 'model': {'name': 'clip_custom', 'temperature': 0.07, 'image_encoder': {'source': 'cnn', 'name': 'tf_efficientnet_b5_ns-detect', 'pretrained': True, 'model_type': 'cnn'}, 'text_encoder': {'source': 'huggingface', 'name': 'emilyalsentzer/Bio_ClinicalBERT', 'pretrained': True, 'gradient_checkpointing': False, 'pooling': 'eos', 'cache_dir': '/ocean/projects/asc170022p/shg121/PhD/Breast-CLIP/src/codebase/outputs/huggingface/', 'trust_remote_code': True, 'mlm_head': True}, 'projection_head': {'name': 'linear', 'dropout': 0.1, 'proj_dim': 512}}, 'optimizer': {'name': 'adamw', 'config': {'lr': 5e-05, 'weight_decay': 0.0001}}, 'scheduler': {'name': 'cosine', 'config': {'total_epochs': 15, 'warmup_epochs': 1, 'total_steps': 73485, 'warmup_steps': 4899}}, 'loss': {'breast_clip': {'label_smoothing': 0.0, 'i2i_weight': 1.0, 't2t_weight': 0.5, 'loss_ratio': 1.0}}}}\n"
     ]
    }
   ],
   "source": [
    "new_dict = {'config': model['config']}\n",
    "# Save the dictionary to a file\n",
    "torch.save(new_dict, 'new_dict.pt')\n",
    "\n",
    "# Load the dictionary from the file\n",
    "loaded_dict = torch.load('new_dict.pt')\n",
    "print(loaded_dict)"
   ]
  },
  {
   "cell_type": "code",
   "execution_count": 8,
   "metadata": {},
   "outputs": [
    {
     "data": {
      "text/plain": [
       "'/mnt/storage/Devam/mammo-clip-github/Mammo-CLIP/src/codebase'"
      ]
     },
     "execution_count": 8,
     "metadata": {},
     "output_type": "execute_result"
    }
   ],
   "source": []
  },
  {
   "cell_type": "code",
   "execution_count": null,
   "metadata": {},
   "outputs": [],
   "source": []
  },
  {
   "cell_type": "code",
   "execution_count": 5,
   "metadata": {},
   "outputs": [
    {
     "data": {
      "text/plain": [
       "{'base': {'period': 'n',\n",
       "  'resume_training': False,\n",
       "  'epoch_to_start': 0,\n",
       "  'train_fast': False,\n",
       "  'fold': 0,\n",
       "  'seed': 10,\n",
       "  'amp': True,\n",
       "  'mean': 0.3089279,\n",
       "  'std': 0.25053555408335154,\n",
       "  'image_size_h': 1520,\n",
       "  'image_size_w': 912,\n",
       "  'text_max_length': 256,\n",
       "  'loss_best': 'contrastive',\n",
       "  'data_frac': 1.0,\n",
       "  'zs_prompts': {'upmc': ['birads category 0', 'birads category 1', 'birads category 2'],\n",
       "   'rsna': ['no malignancy', 'malignancy']},\n",
       "  'output': {'args_path': '/ocean/projects/asc170022p/shg121/PhD/Breast-CLIP/src/codebase/outputs/upmc_clip/b5_detector_period_n',\n",
       "   'checkpoint': '/ocean/projects/asc170022p/shg121/PhD/Breast-CLIP/src/codebase/outputs/upmc_clip/b5_detector_period_n/checkpoints/',\n",
       "   'tensorboard': '/ocean/projects/asc170022p/shg121/PhD/Breast-CLIP/src/codebase/outputs/upmc_clip/b5_detector_period_n/tensorboard/'}},\n",
       " 'data_train': {'upmc_wo_period': {'name': 'upmc',\n",
       "   'data_type': 'imagetext',\n",
       "   'data_dir': '/ocean/projects/asc170022p/shg121/PhD/RSNA_Breast_Imaging/Dataset',\n",
       "   'img_dir': 'External/UPMC/DICOM/images_png_CC_MLO',\n",
       "   'data_path': 'External/UPMC/upmc_breast_clip_without_period_lower_case.csv',\n",
       "   'text_max_length': 256,\n",
       "   'data_frac': 1.0}},\n",
       " 'data_zs': {'upmc_zs': {'name': 'upmc',\n",
       "   'data_type': 'image_classification',\n",
       "   'data_dir': '/ocean/projects/asc170022p/shg121/PhD/RSNA_Breast_Imaging/Dataset',\n",
       "   'img_dir': 'External/UPMC/DICOM/images_png_CC_MLO',\n",
       "   'data_path': 'External/UPMC/upmc_dicom_consolidated_final_folds_BIRADS_num_1_report.csv',\n",
       "   'text_max_length': 256,\n",
       "   'data_frac': 1.0,\n",
       "   'label_col': 'BIRADS_numeric'}},\n",
       " 'dataloader': {'train': {'pin_memory': True,\n",
       "   'shuffle': True,\n",
       "   'drop_last': True,\n",
       "   'num_workers': 0,\n",
       "   'prefetch_factor': 2,\n",
       "   'batch_size': 4},\n",
       "  'valid': {'pin_memory': True,\n",
       "   'shuffle': False,\n",
       "   'drop_last': False,\n",
       "   'num_workers': 0,\n",
       "   'prefetch_factor': 2,\n",
       "   'batch_size': 4},\n",
       "  'test': {'pin_memory': True,\n",
       "   'shuffle': False,\n",
       "   'drop_last': False,\n",
       "   'num_workers': 4,\n",
       "   'batch_size': 6}},\n",
       " 'tokenizer': {'source': 'huggingface',\n",
       "  'pretrained_model_name_or_path': 'emilyalsentzer/Bio_ClinicalBERT',\n",
       "  'cache_dir': '/ocean/projects/asc170022p/shg121/PhD/Breast-CLIP/src/codebase/outputs/huggingface/tokenizers'},\n",
       " 'transform': {'train': {'Resize': {'size_h': 1520, 'size_w': 912},\n",
       "   'transform': {'affine_transform_degree': 20,\n",
       "    'affine_translate_percent': 0.1,\n",
       "    'affine_scale': [0.8, 1.2],\n",
       "    'affine_shear': 20,\n",
       "    'elastic_transform_alpha': 10,\n",
       "    'elastic_transform_sigma': 15,\n",
       "    'p': 1.0}},\n",
       "  'valid': {'Resize': {'size_h': 1520, 'size_w': 912}},\n",
       "  'test': {'Resize': {'size_h': 1520, 'size_w': 912}}},\n",
       " 'model': {'name': 'clip_custom',\n",
       "  'temperature': 0.07,\n",
       "  'image_encoder': {'source': 'cnn',\n",
       "   'name': 'tf_efficientnet_b5_ns-detect',\n",
       "   'pretrained': True,\n",
       "   'model_type': 'cnn'},\n",
       "  'text_encoder': {'source': 'huggingface',\n",
       "   'name': 'emilyalsentzer/Bio_ClinicalBERT',\n",
       "   'pretrained': True,\n",
       "   'gradient_checkpointing': False,\n",
       "   'pooling': 'eos',\n",
       "   'cache_dir': '/ocean/projects/asc170022p/shg121/PhD/Breast-CLIP/src/codebase/outputs/huggingface/',\n",
       "   'trust_remote_code': True,\n",
       "   'mlm_head': True},\n",
       "  'projection_head': {'name': 'linear', 'dropout': 0.1, 'proj_dim': 512}},\n",
       " 'optimizer': {'name': 'adamw',\n",
       "  'config': {'lr': 5e-05, 'weight_decay': 0.0001}},\n",
       " 'scheduler': {'name': 'cosine',\n",
       "  'config': {'total_epochs': 15,\n",
       "   'warmup_epochs': 1,\n",
       "   'total_steps': 73485,\n",
       "   'warmup_steps': 4899}},\n",
       " 'loss': {'breast_clip': {'label_smoothing': 0.0,\n",
       "   'i2i_weight': 1.0,\n",
       "   't2t_weight': 0.5,\n",
       "   'loss_ratio': 1.0}}}"
      ]
     },
     "execution_count": 5,
     "metadata": {},
     "output_type": "execute_result"
    }
   ],
   "source": [
    "model['config']['']"
   ]
  },
  {
   "cell_type": "code",
   "execution_count": null,
   "metadata": {},
   "outputs": [],
   "source": [
    "args = {'arch': 'upmc_breast_clip_b5_period_n_lp'}\n",
    "model = BreastClipClassifier(ckpt=model, n_class=n_class,args=args)\n"
   ]
  },
  {
   "cell_type": "code",
   "execution_count": 23,
   "metadata": {},
   "outputs": [
    {
     "data": {
      "text/plain": [
       "{'source': 'cnn',\n",
       " 'name': 'tf_efficientnet_b5_ns-detect',\n",
       " 'pretrained': True,\n",
       " 'model_type': 'cnn'}"
      ]
     },
     "execution_count": 23,
     "metadata": {},
     "output_type": "execute_result"
    }
   ],
   "source": [
    "model[\"config\"][\"model\"][\"image_encoder\"]"
   ]
  },
  {
   "cell_type": "markdown",
   "metadata": {},
   "source": [
    "## RSNA Cancer Classification with Linear Probing\n"
   ]
  },
  {
   "cell_type": "code",
   "execution_count": null,
   "metadata": {},
   "outputs": [],
   "source": [
    "python ./src/codebase/train_classifier.py \n",
    "  --tensorboard-path '/mnt/storage/Devam/mammo-clip-github/tensorboard_logs'\n",
    "  --checkpoints '/mnt/storage/Devam/mammo-clip-github/checkpoints'\n",
    "  --output_path '/mnt/storage/Devam/mammo-clip-github/output'\n",
    "  --data-dir '/mnt/storage/breast_cancer_kaggle/mammo_clip' \n",
    "  --img-dir 'train_images_png' \n",
    "  --csv-file '/mnt/storage/Devam/mammo-clip-github/Mammo-CLIP/src/codebase/data_csv/train_folds.csv' \n",
    "  --clip_chk_pt_path \"/mnt/storage/Devam/mammo-clip-github/b5-model-best-epoch-7.tar\" \n",
    "  --data_frac 1.0 \n",
    "  --dataset 'RSNA' \n",
    "  --arch 'upmc_breast_clip_det_b5_period_n_lp' \n",
    "  --label \"cancer\" \n",
    "  --epochs 30 \n",
    "  --batch-size 8 \n",
    "  --num-workers 0 \n",
    "  --print-freq 10000 \n",
    "  --log-freq 500 \n",
    "  --running-interactive 'n' \n",
    "  --n_folds 1 \n",
    "  --lr 5.0e-5 \n",
    "  --weighted-BCE 'y' \n",
    "  --balanced-dataloader 'n'"
   ]
  },
  {
   "cell_type": "markdown",
   "metadata": {},
   "source": [
    "## Check modify data set csv RSNA"
   ]
  },
  {
   "cell_type": "code",
   "execution_count": 1,
   "metadata": {},
   "outputs": [
    {
     "name": "stdout",
     "output_type": "stream",
     "text": [
      "Index(['site_id', 'patient_id', 'image_id', 'laterality', 'view', 'age',\n",
      "       'cancer', 'biopsy', 'invasive', 'BIRADS', 'implant', 'density',\n",
      "       'machine_id', 'difficult_negative_case', 'fold'],\n",
      "      dtype='object')\n"
     ]
    }
   ],
   "source": [
    "import pandas as pd\n",
    "\n",
    "df = pd.read_csv('/mnt/storage/Devam/mammo-clip-github/Mammo-CLIP/src/codebase/data_csv/train_folds.csv')\n",
    "print(df.columns)\n"
   ]
  },
  {
   "cell_type": "code",
   "execution_count": 60,
   "metadata": {},
   "outputs": [
    {
     "data": {
      "text/plain": [
       "54706"
      ]
     },
     "execution_count": 60,
     "metadata": {},
     "output_type": "execute_result"
    }
   ],
   "source": [
    "df.image_id.nunique()"
   ]
  },
  {
   "cell_type": "code",
   "execution_count": 6,
   "metadata": {},
   "outputs": [
    {
     "data": {
      "text/html": [
       "<div>\n",
       "<style scoped>\n",
       "    .dataframe tbody tr th:only-of-type {\n",
       "        vertical-align: middle;\n",
       "    }\n",
       "\n",
       "    .dataframe tbody tr th {\n",
       "        vertical-align: top;\n",
       "    }\n",
       "\n",
       "    .dataframe thead th {\n",
       "        text-align: right;\n",
       "    }\n",
       "</style>\n",
       "<table border=\"1\" class=\"dataframe\">\n",
       "  <thead>\n",
       "    <tr style=\"text-align: right;\">\n",
       "      <th></th>\n",
       "      <th>site_id</th>\n",
       "      <th>patient_id</th>\n",
       "      <th>image_id</th>\n",
       "      <th>laterality</th>\n",
       "      <th>view</th>\n",
       "      <th>age</th>\n",
       "      <th>cancer</th>\n",
       "      <th>biopsy</th>\n",
       "      <th>invasive</th>\n",
       "      <th>BIRADS</th>\n",
       "      <th>implant</th>\n",
       "      <th>density</th>\n",
       "      <th>machine_id</th>\n",
       "      <th>difficult_negative_case</th>\n",
       "      <th>fold</th>\n",
       "    </tr>\n",
       "  </thead>\n",
       "  <tbody>\n",
       "    <tr>\n",
       "      <th>51506</th>\n",
       "      <td>1</td>\n",
       "      <td>65530</td>\n",
       "      <td>633167749</td>\n",
       "      <td>L</td>\n",
       "      <td>MLO</td>\n",
       "      <td>48.0</td>\n",
       "      <td>0</td>\n",
       "      <td>0</td>\n",
       "      <td>0</td>\n",
       "      <td>NaN</td>\n",
       "      <td>0</td>\n",
       "      <td>C</td>\n",
       "      <td>49</td>\n",
       "      <td>False</td>\n",
       "      <td>3</td>\n",
       "    </tr>\n",
       "    <tr>\n",
       "      <th>51507</th>\n",
       "      <td>1</td>\n",
       "      <td>65530</td>\n",
       "      <td>1277826488</td>\n",
       "      <td>L</td>\n",
       "      <td>CC</td>\n",
       "      <td>48.0</td>\n",
       "      <td>0</td>\n",
       "      <td>0</td>\n",
       "      <td>0</td>\n",
       "      <td>NaN</td>\n",
       "      <td>0</td>\n",
       "      <td>C</td>\n",
       "      <td>49</td>\n",
       "      <td>False</td>\n",
       "      <td>3</td>\n",
       "    </tr>\n",
       "    <tr>\n",
       "      <th>51508</th>\n",
       "      <td>1</td>\n",
       "      <td>65530</td>\n",
       "      <td>1627492472</td>\n",
       "      <td>L</td>\n",
       "      <td>MLO</td>\n",
       "      <td>48.0</td>\n",
       "      <td>0</td>\n",
       "      <td>0</td>\n",
       "      <td>0</td>\n",
       "      <td>NaN</td>\n",
       "      <td>0</td>\n",
       "      <td>C</td>\n",
       "      <td>49</td>\n",
       "      <td>False</td>\n",
       "      <td>3</td>\n",
       "    </tr>\n",
       "    <tr>\n",
       "      <th>51509</th>\n",
       "      <td>1</td>\n",
       "      <td>65530</td>\n",
       "      <td>675828643</td>\n",
       "      <td>R</td>\n",
       "      <td>MLO</td>\n",
       "      <td>48.0</td>\n",
       "      <td>0</td>\n",
       "      <td>1</td>\n",
       "      <td>0</td>\n",
       "      <td>0.0</td>\n",
       "      <td>0</td>\n",
       "      <td>C</td>\n",
       "      <td>49</td>\n",
       "      <td>True</td>\n",
       "      <td>3</td>\n",
       "    </tr>\n",
       "    <tr>\n",
       "      <th>51510</th>\n",
       "      <td>1</td>\n",
       "      <td>65530</td>\n",
       "      <td>1039644878</td>\n",
       "      <td>R</td>\n",
       "      <td>CC</td>\n",
       "      <td>48.0</td>\n",
       "      <td>0</td>\n",
       "      <td>1</td>\n",
       "      <td>0</td>\n",
       "      <td>0.0</td>\n",
       "      <td>0</td>\n",
       "      <td>C</td>\n",
       "      <td>49</td>\n",
       "      <td>True</td>\n",
       "      <td>3</td>\n",
       "    </tr>\n",
       "    <tr>\n",
       "      <th>51511</th>\n",
       "      <td>1</td>\n",
       "      <td>65530</td>\n",
       "      <td>1401303823</td>\n",
       "      <td>R</td>\n",
       "      <td>MLO</td>\n",
       "      <td>48.0</td>\n",
       "      <td>0</td>\n",
       "      <td>1</td>\n",
       "      <td>0</td>\n",
       "      <td>0.0</td>\n",
       "      <td>0</td>\n",
       "      <td>C</td>\n",
       "      <td>49</td>\n",
       "      <td>True</td>\n",
       "      <td>3</td>\n",
       "    </tr>\n",
       "  </tbody>\n",
       "</table>\n",
       "</div>"
      ],
      "text/plain": [
       "       site_id  patient_id    image_id laterality view   age  cancer  biopsy  \\\n",
       "51506        1       65530   633167749          L  MLO  48.0       0       0   \n",
       "51507        1       65530  1277826488          L   CC  48.0       0       0   \n",
       "51508        1       65530  1627492472          L  MLO  48.0       0       0   \n",
       "51509        1       65530   675828643          R  MLO  48.0       0       1   \n",
       "51510        1       65530  1039644878          R   CC  48.0       0       1   \n",
       "51511        1       65530  1401303823          R  MLO  48.0       0       1   \n",
       "\n",
       "       invasive  BIRADS  implant density  machine_id  difficult_negative_case  \\\n",
       "51506         0     NaN        0       C          49                    False   \n",
       "51507         0     NaN        0       C          49                    False   \n",
       "51508         0     NaN        0       C          49                    False   \n",
       "51509         0     0.0        0       C          49                     True   \n",
       "51510         0     0.0        0       C          49                     True   \n",
       "51511         0     0.0        0       C          49                     True   \n",
       "\n",
       "       fold  \n",
       "51506     3  \n",
       "51507     3  \n",
       "51508     3  \n",
       "51509     3  \n",
       "51510     3  \n",
       "51511     3  "
      ]
     },
     "execution_count": 6,
     "metadata": {},
     "output_type": "execute_result"
    }
   ],
   "source": [
    "df[df['patient_id'] == 65530]"
   ]
  },
  {
   "cell_type": "code",
   "execution_count": 66,
   "metadata": {},
   "outputs": [
    {
     "data": {
      "text/html": [
       "<div>\n",
       "<style scoped>\n",
       "    .dataframe tbody tr th:only-of-type {\n",
       "        vertical-align: middle;\n",
       "    }\n",
       "\n",
       "    .dataframe tbody tr th {\n",
       "        vertical-align: top;\n",
       "    }\n",
       "\n",
       "    .dataframe thead th {\n",
       "        text-align: right;\n",
       "    }\n",
       "</style>\n",
       "<table border=\"1\" class=\"dataframe\">\n",
       "  <thead>\n",
       "    <tr style=\"text-align: right;\">\n",
       "      <th></th>\n",
       "      <th>site_id</th>\n",
       "      <th>patient_id</th>\n",
       "      <th>image_id</th>\n",
       "      <th>laterality</th>\n",
       "      <th>view</th>\n",
       "      <th>age</th>\n",
       "      <th>cancer</th>\n",
       "      <th>biopsy</th>\n",
       "      <th>invasive</th>\n",
       "      <th>BIRADS</th>\n",
       "      <th>implant</th>\n",
       "      <th>density</th>\n",
       "      <th>machine_id</th>\n",
       "      <th>difficult_negative_case</th>\n",
       "      <th>fold</th>\n",
       "    </tr>\n",
       "  </thead>\n",
       "  <tbody>\n",
       "    <tr>\n",
       "      <th>14038</th>\n",
       "      <td>1</td>\n",
       "      <td>25</td>\n",
       "      <td>1442180348</td>\n",
       "      <td>L</td>\n",
       "      <td>MLO</td>\n",
       "      <td>62.0</td>\n",
       "      <td>0</td>\n",
       "      <td>0</td>\n",
       "      <td>0</td>\n",
       "      <td>1.0</td>\n",
       "      <td>0</td>\n",
       "      <td>B</td>\n",
       "      <td>49</td>\n",
       "      <td>False</td>\n",
       "      <td>1</td>\n",
       "    </tr>\n",
       "    <tr>\n",
       "      <th>14039</th>\n",
       "      <td>1</td>\n",
       "      <td>25</td>\n",
       "      <td>1789648218</td>\n",
       "      <td>L</td>\n",
       "      <td>CC</td>\n",
       "      <td>62.0</td>\n",
       "      <td>0</td>\n",
       "      <td>0</td>\n",
       "      <td>0</td>\n",
       "      <td>1.0</td>\n",
       "      <td>0</td>\n",
       "      <td>B</td>\n",
       "      <td>49</td>\n",
       "      <td>False</td>\n",
       "      <td>1</td>\n",
       "    </tr>\n",
       "    <tr>\n",
       "      <th>14040</th>\n",
       "      <td>1</td>\n",
       "      <td>25</td>\n",
       "      <td>822390278</td>\n",
       "      <td>R</td>\n",
       "      <td>CC</td>\n",
       "      <td>62.0</td>\n",
       "      <td>0</td>\n",
       "      <td>0</td>\n",
       "      <td>0</td>\n",
       "      <td>1.0</td>\n",
       "      <td>0</td>\n",
       "      <td>B</td>\n",
       "      <td>49</td>\n",
       "      <td>False</td>\n",
       "      <td>1</td>\n",
       "    </tr>\n",
       "    <tr>\n",
       "      <th>14041</th>\n",
       "      <td>1</td>\n",
       "      <td>25</td>\n",
       "      <td>1723979573</td>\n",
       "      <td>R</td>\n",
       "      <td>MLO</td>\n",
       "      <td>62.0</td>\n",
       "      <td>0</td>\n",
       "      <td>0</td>\n",
       "      <td>0</td>\n",
       "      <td>1.0</td>\n",
       "      <td>0</td>\n",
       "      <td>B</td>\n",
       "      <td>49</td>\n",
       "      <td>False</td>\n",
       "      <td>1</td>\n",
       "    </tr>\n",
       "    <tr>\n",
       "      <th>14042</th>\n",
       "      <td>1</td>\n",
       "      <td>25</td>\n",
       "      <td>1962456803</td>\n",
       "      <td>R</td>\n",
       "      <td>MLO</td>\n",
       "      <td>62.0</td>\n",
       "      <td>0</td>\n",
       "      <td>0</td>\n",
       "      <td>0</td>\n",
       "      <td>1.0</td>\n",
       "      <td>0</td>\n",
       "      <td>B</td>\n",
       "      <td>49</td>\n",
       "      <td>False</td>\n",
       "      <td>1</td>\n",
       "    </tr>\n",
       "    <tr>\n",
       "      <th>14043</th>\n",
       "      <td>1</td>\n",
       "      <td>25</td>\n",
       "      <td>1997933901</td>\n",
       "      <td>R</td>\n",
       "      <td>CC</td>\n",
       "      <td>62.0</td>\n",
       "      <td>0</td>\n",
       "      <td>0</td>\n",
       "      <td>0</td>\n",
       "      <td>1.0</td>\n",
       "      <td>0</td>\n",
       "      <td>B</td>\n",
       "      <td>49</td>\n",
       "      <td>False</td>\n",
       "      <td>1</td>\n",
       "    </tr>\n",
       "  </tbody>\n",
       "</table>\n",
       "</div>"
      ],
      "text/plain": [
       "       site_id  patient_id    image_id laterality view   age  cancer  biopsy  \\\n",
       "14038        1          25  1442180348          L  MLO  62.0       0       0   \n",
       "14039        1          25  1789648218          L   CC  62.0       0       0   \n",
       "14040        1          25   822390278          R   CC  62.0       0       0   \n",
       "14041        1          25  1723979573          R  MLO  62.0       0       0   \n",
       "14042        1          25  1962456803          R  MLO  62.0       0       0   \n",
       "14043        1          25  1997933901          R   CC  62.0       0       0   \n",
       "\n",
       "       invasive  BIRADS  implant density  machine_id  difficult_negative_case  \\\n",
       "14038         0     1.0        0       B          49                    False   \n",
       "14039         0     1.0        0       B          49                    False   \n",
       "14040         0     1.0        0       B          49                    False   \n",
       "14041         0     1.0        0       B          49                    False   \n",
       "14042         0     1.0        0       B          49                    False   \n",
       "14043         0     1.0        0       B          49                    False   \n",
       "\n",
       "       fold  \n",
       "14038     1  \n",
       "14039     1  \n",
       "14040     1  \n",
       "14041     1  \n",
       "14042     1  \n",
       "14043     1  "
      ]
     },
     "execution_count": 66,
     "metadata": {},
     "output_type": "execute_result"
    }
   ],
   "source": [
    "df[df['patient_id'] == 25]"
   ]
  },
  {
   "cell_type": "code",
   "execution_count": 2,
   "metadata": {},
   "outputs": [],
   "source": [
    "cleaned_df = df.dropna()"
   ]
  },
  {
   "cell_type": "code",
   "execution_count": 8,
   "metadata": {},
   "outputs": [
    {
     "data": {
      "text/plain": [
       "patient_id  view\n",
       "25          CC      2\n",
       "            MLO     2\n",
       "28          CC      0\n",
       "            MLO     0\n",
       "33          CC      2\n",
       "                   ..\n",
       "65495       MLO     1\n",
       "65530       CC      0\n",
       "            MLO     0\n",
       "65534       CC      1\n",
       "            MLO     1\n",
       "Length: 11621, dtype: int64"
      ]
     },
     "execution_count": 8,
     "metadata": {},
     "output_type": "execute_result"
    }
   ],
   "source": [
    "# Step 1: Group by patient ID and view, then apply a custom function to calculate combinations\n",
    "def calculate_combinations(group):\n",
    "    # Count unique image IDs for L and R within the group\n",
    "    l_count = group[group['laterality'] == 'L']['image_id'].nunique()\n",
    "    r_count = group[group['laterality'] == 'R']['image_id'].nunique()\n",
    "    # The number of L+R combinations is the min of l_count and r_count\n",
    "    return l_count*r_count\n",
    "\n",
    "combinations_per_view = cleaned_df.groupby(['patient_id', 'view']).apply(calculate_combinations)\n",
    "combinations_per_view"
   ]
  },
  {
   "cell_type": "code",
   "execution_count": 10,
   "metadata": {},
   "outputs": [
    {
     "data": {
      "text/plain": [
       "patient_id  view\n",
       "5           CC      1\n",
       "            MLO     1\n",
       "25          CC      2\n",
       "            MLO     2\n",
       "28          CC      1\n",
       "                   ..\n",
       "65526       MLO     1\n",
       "65530       CC      1\n",
       "            MLO     4\n",
       "65534       CC      1\n",
       "            MLO     1\n",
       "Length: 23854, dtype: int64"
      ]
     },
     "execution_count": 10,
     "metadata": {},
     "output_type": "execute_result"
    }
   ],
   "source": [
    "# Step 1: Group by patient ID and view, then apply a custom function to calculate combinations\n",
    "def calculate_combinations(group):\n",
    "    # Count unique image IDs for L and R within the group\n",
    "    l_count = group[group['laterality'] == 'L']['image_id'].nunique()\n",
    "    r_count = group[group['laterality'] == 'R']['image_id'].nunique()\n",
    "    # The number of L+R combinations is the min of l_count and r_count\n",
    "    return l_count*r_count\n",
    "\n",
    "combinations_per_view1 = df.groupby(['patient_id', 'view']).apply(calculate_combinations)\n",
    "combinations_per_view1"
   ]
  },
  {
   "cell_type": "code",
   "execution_count": 16,
   "metadata": {},
   "outputs": [
    {
     "name": "stdout",
     "output_type": "stream",
     "text": [
      " MLO raw: 17471 cleaned : 6464\n"
     ]
    }
   ],
   "source": [
    "print(' MLO raw:', combinations_per_view1.loc[:,'MLO'].sum() , 'cleaned :', combinations_per_view.loc[:,'MLO'].sum())"
   ]
  },
  {
   "cell_type": "code",
   "execution_count": 17,
   "metadata": {},
   "outputs": [
    {
     "name": "stdout",
     "output_type": "stream",
     "text": [
      "CC raw : 15908 cleaned : 5679\n"
     ]
    }
   ],
   "source": [
    "print('CC raw :', combinations_per_view1.loc[:,'CC'].sum() , 'cleaned :', combinations_per_view.loc[:,'CC'].sum())"
   ]
  },
  {
   "cell_type": "code",
   "execution_count": 20,
   "metadata": {},
   "outputs": [
    {
     "name": "stdout",
     "output_type": "stream",
     "text": [
      "MLO + CC raw: 33379 cleaned: 12143\n"
     ]
    }
   ],
   "source": [
    "mlo_cc_sum = combinations_per_view1.loc[:,'MLO'].sum() + combinations_per_view1.loc[:,'CC'].sum()\n",
    "print('MLO + CC raw:', mlo_cc_sum, 'cleaned:', combinations_per_view.loc[:,'MLO'].sum() + combinations_per_view.loc[:,'CC'].sum())"
   ]
  },
  {
   "cell_type": "code",
   "execution_count": null,
   "metadata": {},
   "outputs": [],
   "source": [
    "# combinations_per_view[~combinations_per_view.index.get_level_values('view').isin(['MLO', 'CC'])]"
   ]
  },
  {
   "cell_type": "markdown",
   "metadata": {},
   "source": [
    "total patients"
   ]
  },
  {
   "cell_type": "code",
   "execution_count": 18,
   "metadata": {},
   "outputs": [
    {
     "data": {
      "text/plain": [
       "11913"
      ]
     },
     "execution_count": 18,
     "metadata": {},
     "output_type": "execute_result"
    }
   ],
   "source": [
    "unique_features.patient_id.nunique()"
   ]
  },
  {
   "cell_type": "code",
   "execution_count": 25,
   "metadata": {},
   "outputs": [
    {
     "data": {
      "text/html": [
       "<div>\n",
       "<style scoped>\n",
       "    .dataframe tbody tr th:only-of-type {\n",
       "        vertical-align: middle;\n",
       "    }\n",
       "\n",
       "    .dataframe tbody tr th {\n",
       "        vertical-align: top;\n",
       "    }\n",
       "\n",
       "    .dataframe thead th {\n",
       "        text-align: right;\n",
       "    }\n",
       "</style>\n",
       "<table border=\"1\" class=\"dataframe\">\n",
       "  <thead>\n",
       "    <tr style=\"text-align: right;\">\n",
       "      <th></th>\n",
       "      <th>site_id</th>\n",
       "      <th>patient_id</th>\n",
       "      <th>image_id</th>\n",
       "      <th>laterality</th>\n",
       "      <th>view</th>\n",
       "      <th>age</th>\n",
       "      <th>cancer</th>\n",
       "      <th>biopsy</th>\n",
       "      <th>invasive</th>\n",
       "      <th>BIRADS</th>\n",
       "      <th>implant</th>\n",
       "      <th>density</th>\n",
       "      <th>machine_id</th>\n",
       "      <th>difficult_negative_case</th>\n",
       "      <th>fold</th>\n",
       "    </tr>\n",
       "  </thead>\n",
       "  <tbody>\n",
       "    <tr>\n",
       "      <th>0</th>\n",
       "      <td>2</td>\n",
       "      <td>10006</td>\n",
       "      <td>462822612</td>\n",
       "      <td>L</td>\n",
       "      <td>CC</td>\n",
       "      <td>61.0</td>\n",
       "      <td>0</td>\n",
       "      <td>0</td>\n",
       "      <td>0</td>\n",
       "      <td>NaN</td>\n",
       "      <td>0</td>\n",
       "      <td>NaN</td>\n",
       "      <td>29</td>\n",
       "      <td>False</td>\n",
       "      <td>1</td>\n",
       "    </tr>\n",
       "    <tr>\n",
       "      <th>1</th>\n",
       "      <td>2</td>\n",
       "      <td>10006</td>\n",
       "      <td>1459541791</td>\n",
       "      <td>L</td>\n",
       "      <td>MLO</td>\n",
       "      <td>61.0</td>\n",
       "      <td>0</td>\n",
       "      <td>0</td>\n",
       "      <td>0</td>\n",
       "      <td>NaN</td>\n",
       "      <td>0</td>\n",
       "      <td>NaN</td>\n",
       "      <td>29</td>\n",
       "      <td>False</td>\n",
       "      <td>1</td>\n",
       "    </tr>\n",
       "    <tr>\n",
       "      <th>2</th>\n",
       "      <td>2</td>\n",
       "      <td>10006</td>\n",
       "      <td>1864590858</td>\n",
       "      <td>R</td>\n",
       "      <td>MLO</td>\n",
       "      <td>61.0</td>\n",
       "      <td>0</td>\n",
       "      <td>0</td>\n",
       "      <td>0</td>\n",
       "      <td>NaN</td>\n",
       "      <td>0</td>\n",
       "      <td>NaN</td>\n",
       "      <td>29</td>\n",
       "      <td>False</td>\n",
       "      <td>1</td>\n",
       "    </tr>\n",
       "    <tr>\n",
       "      <th>3</th>\n",
       "      <td>2</td>\n",
       "      <td>10006</td>\n",
       "      <td>1874946579</td>\n",
       "      <td>R</td>\n",
       "      <td>CC</td>\n",
       "      <td>61.0</td>\n",
       "      <td>0</td>\n",
       "      <td>0</td>\n",
       "      <td>0</td>\n",
       "      <td>NaN</td>\n",
       "      <td>0</td>\n",
       "      <td>NaN</td>\n",
       "      <td>29</td>\n",
       "      <td>False</td>\n",
       "      <td>1</td>\n",
       "    </tr>\n",
       "    <tr>\n",
       "      <th>4</th>\n",
       "      <td>2</td>\n",
       "      <td>10011</td>\n",
       "      <td>220375232</td>\n",
       "      <td>L</td>\n",
       "      <td>CC</td>\n",
       "      <td>55.0</td>\n",
       "      <td>0</td>\n",
       "      <td>0</td>\n",
       "      <td>0</td>\n",
       "      <td>0.0</td>\n",
       "      <td>0</td>\n",
       "      <td>NaN</td>\n",
       "      <td>21</td>\n",
       "      <td>True</td>\n",
       "      <td>0</td>\n",
       "    </tr>\n",
       "    <tr>\n",
       "      <th>...</th>\n",
       "      <td>...</td>\n",
       "      <td>...</td>\n",
       "      <td>...</td>\n",
       "      <td>...</td>\n",
       "      <td>...</td>\n",
       "      <td>...</td>\n",
       "      <td>...</td>\n",
       "      <td>...</td>\n",
       "      <td>...</td>\n",
       "      <td>...</td>\n",
       "      <td>...</td>\n",
       "      <td>...</td>\n",
       "      <td>...</td>\n",
       "      <td>...</td>\n",
       "      <td>...</td>\n",
       "    </tr>\n",
       "    <tr>\n",
       "      <th>54701</th>\n",
       "      <td>1</td>\n",
       "      <td>9973</td>\n",
       "      <td>1729524723</td>\n",
       "      <td>R</td>\n",
       "      <td>MLO</td>\n",
       "      <td>43.0</td>\n",
       "      <td>0</td>\n",
       "      <td>0</td>\n",
       "      <td>0</td>\n",
       "      <td>1.0</td>\n",
       "      <td>0</td>\n",
       "      <td>C</td>\n",
       "      <td>49</td>\n",
       "      <td>False</td>\n",
       "      <td>0</td>\n",
       "    </tr>\n",
       "    <tr>\n",
       "      <th>54702</th>\n",
       "      <td>1</td>\n",
       "      <td>9989</td>\n",
       "      <td>63473691</td>\n",
       "      <td>L</td>\n",
       "      <td>MLO</td>\n",
       "      <td>60.0</td>\n",
       "      <td>0</td>\n",
       "      <td>0</td>\n",
       "      <td>0</td>\n",
       "      <td>NaN</td>\n",
       "      <td>0</td>\n",
       "      <td>C</td>\n",
       "      <td>216</td>\n",
       "      <td>False</td>\n",
       "      <td>2</td>\n",
       "    </tr>\n",
       "    <tr>\n",
       "      <th>54703</th>\n",
       "      <td>1</td>\n",
       "      <td>9989</td>\n",
       "      <td>1078943060</td>\n",
       "      <td>L</td>\n",
       "      <td>CC</td>\n",
       "      <td>60.0</td>\n",
       "      <td>0</td>\n",
       "      <td>0</td>\n",
       "      <td>0</td>\n",
       "      <td>NaN</td>\n",
       "      <td>0</td>\n",
       "      <td>C</td>\n",
       "      <td>216</td>\n",
       "      <td>False</td>\n",
       "      <td>2</td>\n",
       "    </tr>\n",
       "    <tr>\n",
       "      <th>54704</th>\n",
       "      <td>1</td>\n",
       "      <td>9989</td>\n",
       "      <td>398038886</td>\n",
       "      <td>R</td>\n",
       "      <td>MLO</td>\n",
       "      <td>60.0</td>\n",
       "      <td>0</td>\n",
       "      <td>0</td>\n",
       "      <td>0</td>\n",
       "      <td>0.0</td>\n",
       "      <td>0</td>\n",
       "      <td>C</td>\n",
       "      <td>216</td>\n",
       "      <td>True</td>\n",
       "      <td>2</td>\n",
       "    </tr>\n",
       "    <tr>\n",
       "      <th>54705</th>\n",
       "      <td>1</td>\n",
       "      <td>9989</td>\n",
       "      <td>439796429</td>\n",
       "      <td>R</td>\n",
       "      <td>CC</td>\n",
       "      <td>60.0</td>\n",
       "      <td>0</td>\n",
       "      <td>0</td>\n",
       "      <td>0</td>\n",
       "      <td>0.0</td>\n",
       "      <td>0</td>\n",
       "      <td>C</td>\n",
       "      <td>216</td>\n",
       "      <td>True</td>\n",
       "      <td>2</td>\n",
       "    </tr>\n",
       "  </tbody>\n",
       "</table>\n",
       "<p>54706 rows × 15 columns</p>\n",
       "</div>"
      ],
      "text/plain": [
       "       site_id  patient_id    image_id laterality view   age  cancer  biopsy  \\\n",
       "0            2       10006   462822612          L   CC  61.0       0       0   \n",
       "1            2       10006  1459541791          L  MLO  61.0       0       0   \n",
       "2            2       10006  1864590858          R  MLO  61.0       0       0   \n",
       "3            2       10006  1874946579          R   CC  61.0       0       0   \n",
       "4            2       10011   220375232          L   CC  55.0       0       0   \n",
       "...        ...         ...         ...        ...  ...   ...     ...     ...   \n",
       "54701        1        9973  1729524723          R  MLO  43.0       0       0   \n",
       "54702        1        9989    63473691          L  MLO  60.0       0       0   \n",
       "54703        1        9989  1078943060          L   CC  60.0       0       0   \n",
       "54704        1        9989   398038886          R  MLO  60.0       0       0   \n",
       "54705        1        9989   439796429          R   CC  60.0       0       0   \n",
       "\n",
       "       invasive  BIRADS  implant density  machine_id  difficult_negative_case  \\\n",
       "0             0     NaN        0     NaN          29                    False   \n",
       "1             0     NaN        0     NaN          29                    False   \n",
       "2             0     NaN        0     NaN          29                    False   \n",
       "3             0     NaN        0     NaN          29                    False   \n",
       "4             0     0.0        0     NaN          21                     True   \n",
       "...         ...     ...      ...     ...         ...                      ...   \n",
       "54701         0     1.0        0       C          49                    False   \n",
       "54702         0     NaN        0       C         216                    False   \n",
       "54703         0     NaN        0       C         216                    False   \n",
       "54704         0     0.0        0       C         216                     True   \n",
       "54705         0     0.0        0       C         216                     True   \n",
       "\n",
       "       fold  \n",
       "0         1  \n",
       "1         1  \n",
       "2         1  \n",
       "3         1  \n",
       "4         0  \n",
       "...     ...  \n",
       "54701     0  \n",
       "54702     2  \n",
       "54703     2  \n",
       "54704     2  \n",
       "54705     2  \n",
       "\n",
       "[54706 rows x 15 columns]"
      ]
     },
     "execution_count": 25,
     "metadata": {},
     "output_type": "execute_result"
    }
   ],
   "source": [
    "df"
   ]
  },
  {
   "cell_type": "markdown",
   "metadata": {},
   "source": [
    "Check if null values of BIRADS and Density Intersect"
   ]
  },
  {
   "cell_type": "code",
   "execution_count": 11,
   "metadata": {},
   "outputs": [
    {
     "data": {
      "text/plain": [
       "5794"
      ]
     },
     "execution_count": 11,
     "metadata": {},
     "output_type": "execute_result"
    }
   ],
   "source": [
    "count = df[~df['density'].isnull() & df['BIRADS'].isnull()].shape[0]\n",
    "count"
   ]
  },
  {
   "cell_type": "markdown",
   "metadata": {},
   "source": [
    "if we remove all the CC views, we have : "
   ]
  },
  {
   "cell_type": "code",
   "execution_count": 34,
   "metadata": {},
   "outputs": [
    {
     "data": {
      "text/plain": [
       "2.34223117602619"
      ]
     },
     "execution_count": 34,
     "metadata": {},
     "output_type": "execute_result"
    }
   ],
   "source": [
    "df[df['view'] == 'MLO'].groupby('patient_id')['view'].value_counts().mean()"
   ]
  },
  {
   "cell_type": "code",
   "execution_count": 33,
   "metadata": {},
   "outputs": [
    {
     "data": {
      "text/plain": [
       "[]"
      ]
     },
     "execution_count": 33,
     "metadata": {},
     "output_type": "execute_result"
    }
   ],
   "source": [
    "patient_id_with_different_birads = df.groupby('patient_id')['BIRADS'].nunique().loc[lambda x: x > 1].index.tolist()\n",
    "patient_id_with_different_birads"
   ]
  },
  {
   "cell_type": "code",
   "execution_count": 9,
   "metadata": {},
   "outputs": [
    {
     "data": {
      "image/png": "[encoded data removed]",
      "text/plain": [
       "<Figure size 640x480 with 1 Axes>"
      ]
     },
     "metadata": {},
     "output_type": "display_data"
    },
    {
     "data": {
      "image/png": "[encoded data removed]",
      "text/plain": [
       "<Figure size 640x480 with 1 Axes>"
      ]
     },
     "metadata": {},
     "output_type": "display_data"
    },
    {
     "data": {
      "image/png": "[encoded data removed]",
      "text/plain": [
       "<Figure size 640x480 with 1 Axes>"
      ]
     },
     "metadata": {},
     "output_type": "display_data"
    },
    {
     "data": {
      "image/png": "[encoded data removed]",
      "text/plain": [
       "<Figure size 640x480 with 1 Axes>"
      ]
     },
     "metadata": {},
     "output_type": "display_data"
    },
    {
     "data": {
      "image/png": "[encoded data removed]",
      "text/plain": [
       "<Figure size 640x480 with 1 Axes>"
      ]
     },
     "metadata": {},
     "output_type": "display_data"
    },
    {
     "data": {
      "image/png": "[encoded data removed]",
      "text/plain": [
       "<Figure size 640x480 with 1 Axes>"
      ]
     },
     "metadata": {},
     "output_type": "display_data"
    }
   ],
   "source": [
    "import matplotlib.pyplot as plt\n",
    "\n",
    "# Plotting the age distribution\n",
    "unique_features = df.groupby('patient_id').first().reset_index()\n",
    "\n",
    "unique_features['age'].plot(kind='hist', bins=20)\n",
    "plt.xlabel('Age')\n",
    "plt.ylabel('Frequency')\n",
    "plt.title('Age Distribution')\n",
    "plt.show()\n",
    "\n",
    "# Plotting the cancer distribution\n",
    "unique_features['cancer'].value_counts().plot(kind='bar')\n",
    "plt.xlabel('Cancer')\n",
    "plt.ylabel('Count')\n",
    "plt.title('Cancer Distribution')\n",
    "plt.show()\n",
    "\n",
    "# Plotting the biopsy distribution\n",
    "unique_features['biopsy'].value_counts().plot(kind='bar')\n",
    "plt.xlabel('Biopsy')\n",
    "plt.ylabel('Count')\n",
    "plt.title('Biopsy Distribution')\n",
    "plt.show()\n",
    "\n",
    "# Plotting the invasive distribution\n",
    "unique_features['invasive'].value_counts().plot(kind='bar')\n",
    "plt.xlabel('Invasive')\n",
    "plt.ylabel('Count')\n",
    "plt.title('Invasive Distribution')\n",
    "plt.show()\n",
    "\n",
    "# Plotting the BIRADS distribution\n",
    "unique_features['BIRADS'].value_counts().plot(kind='bar')\n",
    "plt.xlabel('BIRADS')\n",
    "plt.ylabel('Count')\n",
    "plt.title('BIRADS Distribution')\n",
    "plt.show()\n",
    "\n",
    "# Plotting the density distribution\n",
    "unique_features['density'].value_counts().plot(kind='bar')\n",
    "plt.xlabel('Density')\n",
    "plt.ylabel('Count')\n",
    "plt.title('Density Distribution')\n",
    "plt.show()"
   ]
  },
  {
   "cell_type": "markdown",
   "metadata": {},
   "source": [
    "### Data Cleaning "
   ]
  },
  {
   "cell_type": "code",
   "execution_count": 2,
   "metadata": {},
   "outputs": [
    {
     "name": "stdout",
     "output_type": "stream",
     "text": [
      "site_id\n",
      "1    29519\n",
      "2    25187\n",
      "Name: count, dtype: int64\n",
      "patient_id\n",
      "52868    14\n",
      "55706    14\n",
      "9795     13\n",
      "51115    13\n",
      "5421     13\n",
      "         ..\n",
      "32743     4\n",
      "32751     4\n",
      "32763     4\n",
      "32770     4\n",
      "9989      4\n",
      "Name: count, Length: 11913, dtype: int64\n",
      "image_id\n",
      "462822612     1\n",
      "443006806     1\n",
      "587208264     1\n",
      "777292277     1\n",
      "1605015271    1\n",
      "             ..\n",
      "2090555582    1\n",
      "1158155976    1\n",
      "1239079415    1\n",
      "110331672     1\n",
      "439796429     1\n",
      "Name: count, Length: 54706, dtype: int64\n",
      "laterality\n",
      "R    27439\n",
      "L    27267\n",
      "Name: count, dtype: int64\n",
      "view\n",
      "MLO    27903\n",
      "CC     26765\n",
      "AT        19\n",
      "LM        10\n",
      "ML         8\n",
      "LMO        1\n",
      "Name: count, dtype: int64\n",
      "age\n",
      "50.0    2248\n",
      "62.0    2038\n",
      "64.0    2011\n",
      "54.0    2004\n",
      "57.0    1964\n",
      "        ... \n",
      "26.0      11\n",
      "33.0      10\n",
      "29.0       7\n",
      "30.0       5\n",
      "31.0       4\n",
      "Name: count, Length: 63, dtype: int64\n",
      "cancer\n",
      "0    53548\n",
      "1     1158\n",
      "Name: count, dtype: int64\n",
      "biopsy\n",
      "0    51737\n",
      "1     2969\n",
      "Name: count, dtype: int64\n",
      "invasive\n",
      "0    53888\n",
      "1      818\n",
      "Name: count, dtype: int64\n",
      "BIRADS\n",
      "1.0    15772\n",
      "0.0     8249\n",
      "2.0     2265\n",
      "Name: count, dtype: int64\n",
      "implant\n",
      "0    53229\n",
      "1     1477\n",
      "Name: count, dtype: int64\n",
      "density\n",
      "B    12651\n",
      "C    12175\n",
      "A     3105\n",
      "D     1539\n",
      "Name: count, dtype: int64\n",
      "machine_id\n",
      "49     23529\n",
      "48      8699\n",
      "29      8267\n",
      "21      8221\n",
      "93      1915\n",
      "216     1908\n",
      "210     1070\n",
      "170      923\n",
      "190      145\n",
      "197       29\n",
      "Name: count, dtype: int64\n",
      "difficult_negative_case\n",
      "False    47001\n",
      "True      7705\n",
      "Name: count, dtype: int64\n",
      "fold\n",
      "3    13766\n",
      "0    13682\n",
      "2    13646\n",
      "1    13612\n",
      "Name: count, dtype: int64\n"
     ]
    }
   ],
   "source": [
    "for i in df.columns:\n",
    "    print(df[i].value_counts())\n",
    "# print(df['laterality'].value_counts(),df['view'].value_counts(),df['density'].value_counts())\n"
   ]
  },
  {
   "cell_type": "code",
   "execution_count": null,
   "metadata": {},
   "outputs": [],
   "source": []
  },
  {
   "cell_type": "code",
   "execution_count": 3,
   "metadata": {},
   "outputs": [
    {
     "data": {
      "text/plain": [
       "BIRADS\n",
       "1.0    15772\n",
       "0.0     8249\n",
       "2.0     2265\n",
       "Name: count, dtype: int64"
      ]
     },
     "execution_count": 3,
     "metadata": {},
     "output_type": "execute_result"
    }
   ],
   "source": [
    "df.BIRADS.value_counts()"
   ]
  },
  {
   "cell_type": "code",
   "execution_count": 4,
   "metadata": {},
   "outputs": [
    {
     "data": {
      "text/plain": [
       "view\n",
       "MLO    27903\n",
       "CC     26765\n",
       "AT        19\n",
       "LM        10\n",
       "ML         8\n",
       "LMO        1\n",
       "Name: count, dtype: int64"
      ]
     },
     "execution_count": 4,
     "metadata": {},
     "output_type": "execute_result"
    }
   ],
   "source": [
    "df.view.value_counts()"
   ]
  },
  {
   "cell_type": "markdown",
   "metadata": {},
   "source": [
    "Drop rows with Views other than 'MLO' and 'CC'"
   ]
  },
  {
   "cell_type": "code",
   "execution_count": 4,
   "metadata": {},
   "outputs": [
    {
     "name": "stdout",
     "output_type": "stream",
     "text": [
      "(54706, 15)\n",
      "Shape after dropping additional views  (54668, 15)\n"
     ]
    },
    {
     "data": {
      "text/plain": [
       "view\n",
       "MLO    27903\n",
       "CC     26765\n",
       "Name: count, dtype: int64"
      ]
     },
     "execution_count": 4,
     "metadata": {},
     "output_type": "execute_result"
    }
   ],
   "source": [
    "# Drop rows with view Other than MLO and CC\n",
    "print(df.shape)\n",
    "df = df[df['view'].isin(['MLO','CC'])]\n",
    "print(\"Shape after dropping additional views \",df.shape)\n",
    "df.view.value_counts()"
   ]
  },
  {
   "cell_type": "code",
   "execution_count": null,
   "metadata": {},
   "outputs": [],
   "source": []
  },
  {
   "cell_type": "code",
   "execution_count": 5,
   "metadata": {},
   "outputs": [
    {
     "data": {
      "text/plain": [
       "BIRADS\n",
       "1.0    15760\n",
       "0.0     8239\n",
       "2.0     2261\n",
       "Name: count, dtype: int64"
      ]
     },
     "execution_count": 5,
     "metadata": {},
     "output_type": "execute_result"
    }
   ],
   "source": [
    "df.BIRADS.value_counts()"
   ]
  },
  {
   "cell_type": "code",
   "execution_count": 13,
   "metadata": {},
   "outputs": [
    {
     "name": "stdout",
     "output_type": "stream",
     "text": [
      "Shape before dropping duplicates: (54668, 15)\n",
      "Shape after dropping duplicates: (54668, 15)\n"
     ]
    }
   ],
   "source": [
    "print('Shape before dropping duplicates:',df.shape)\n",
    "df.drop_duplicates(inplace=True)\n",
    "print('Shape after dropping duplicates:',df.shape)"
   ]
  },
  {
   "cell_type": "markdown",
   "metadata": {},
   "source": [
    "Missing Values"
   ]
  },
  {
   "cell_type": "code",
   "execution_count": 36,
   "metadata": {},
   "outputs": [
    {
     "name": "stdout",
     "output_type": "stream",
     "text": [
      "<class 'pandas.core.frame.DataFrame'>\n",
      "RangeIndex: 54706 entries, 0 to 54705\n",
      "Data columns (total 15 columns):\n",
      " #   Column                   Non-Null Count  Dtype  \n",
      "---  ------                   --------------  -----  \n",
      " 0   site_id                  54706 non-null  int64  \n",
      " 1   patient_id               54706 non-null  int64  \n",
      " 2   image_id                 54706 non-null  int64  \n",
      " 3   laterality               54706 non-null  object \n",
      " 4   view                     54706 non-null  object \n",
      " 5   age                      54669 non-null  float64\n",
      " 6   cancer                   54706 non-null  int64  \n",
      " 7   biopsy                   54706 non-null  int64  \n",
      " 8   invasive                 54706 non-null  int64  \n",
      " 9   BIRADS                   26286 non-null  float64\n",
      " 10  implant                  54706 non-null  int64  \n",
      " 11  density                  29470 non-null  object \n",
      " 12  machine_id               54706 non-null  int64  \n",
      " 13  difficult_negative_case  54706 non-null  bool   \n",
      " 14  fold                     54706 non-null  int64  \n",
      "dtypes: bool(1), float64(2), int64(9), object(3)\n",
      "memory usage: 5.9+ MB\n"
     ]
    }
   ],
   "source": [
    "df.info()"
   ]
  },
  {
   "cell_type": "code",
   "execution_count": 34,
   "metadata": {},
   "outputs": [],
   "source": [
    "import pandas as pd\n",
    "df1 = pd.read_csv('/mnt/storage/Devam/mammo-clip-github/Mammo-CLIP/src/codebase/data_csv/train_folds_final.csv')"
   ]
  },
  {
   "cell_type": "code",
   "execution_count": 21,
   "metadata": {},
   "outputs": [
    {
     "data": {
      "text/plain": [
       "14084"
      ]
     },
     "execution_count": 21,
     "metadata": {},
     "output_type": "execute_result"
    }
   ],
   "source": [
    "merged_df = df.groupby('patient_id')['BIRADS'].value_counts().unstack()\n",
    "null_values = merged_df[merged_df.isnull().any(axis=1)].isnull().sum().sum()\n",
    "null_values"
   ]
  },
  {
   "cell_type": "code",
   "execution_count": 25,
   "metadata": {},
   "outputs": [
    {
     "data": {
      "text/plain": [
       "site_id                        2\n",
       "patient_id                 11913\n",
       "image_id                   54668\n",
       "laterality                     2\n",
       "view                           2\n",
       "age                           63\n",
       "cancer                         2\n",
       "biopsy                         2\n",
       "invasive                       2\n",
       "BIRADS                         3\n",
       "implant                        2\n",
       "density                        4\n",
       "machine_id                    10\n",
       "difficult_negative_case        2\n",
       "fold                           4\n",
       "dtype: int64"
      ]
     },
     "execution_count": 25,
     "metadata": {},
     "output_type": "execute_result"
    }
   ],
   "source": [
    "df.nunique()"
   ]
  },
  {
   "cell_type": "code",
   "execution_count": 24,
   "metadata": {},
   "outputs": [
    {
     "data": {
      "text/plain": [
       "(54668, 15)"
      ]
     },
     "execution_count": 24,
     "metadata": {},
     "output_type": "execute_result"
    }
   ],
   "source": [
    "df.shape"
   ]
  },
  {
   "cell_type": "code",
   "execution_count": 15,
   "metadata": {},
   "outputs": [
    {
     "data": {
      "text/plain": [
       "site_id                        0\n",
       "patient_id                     0\n",
       "image_id                       0\n",
       "laterality                     0\n",
       "view                           0\n",
       "age                           37\n",
       "cancer                         0\n",
       "biopsy                         0\n",
       "invasive                       0\n",
       "BIRADS                     28408\n",
       "implant                        0\n",
       "density                    25231\n",
       "machine_id                     0\n",
       "difficult_negative_case        0\n",
       "fold                           0\n",
       "dtype: int64"
      ]
     },
     "execution_count": 15,
     "metadata": {},
     "output_type": "execute_result"
    }
   ],
   "source": [
    "df.isna().sum()"
   ]
  },
  {
   "cell_type": "code",
   "execution_count": 19,
   "metadata": {},
   "outputs": [
    {
     "data": {
      "text/plain": [
       "0        10006\n",
       "1        10006\n",
       "2        10006\n",
       "3        10006\n",
       "4        10011\n",
       "         ...  \n",
       "54701     9973\n",
       "54702     9989\n",
       "54703     9989\n",
       "54704     9989\n",
       "54705     9989\n",
       "Name: patient_id, Length: 54706, dtype: int64"
      ]
     },
     "execution_count": 19,
     "metadata": {},
     "output_type": "execute_result"
    }
   ],
   "source": [
    "# Drop unnecessary columns\n",
    "df = df.drop(['site_id', 'patient_id', 'image_id', 'machine_id'], axis=1)\n",
    "\n",
    "# Convert 'age' column to integer type\n",
    "df['age'] = df['age'].astype(int)\n",
    "\n",
    "# Fill missing values in 'BIRADS' column with 0\n",
    "df['BIRADS'] = df['BIRADS'].fillna(0)\n",
    "\n",
    "# Convert 'density' column to categorical type\n",
    "df['density'] = df['density'].astype('category')\n",
    "\n",
    "# Check for missing values\n",
    "missing_values = df.isna().sum()\n",
    "print(\"Missing Values:\")\n",
    "print(missing_values)\n",
    "\n",
    "# Check value counts for each column\n",
    "for column in df.columns:\n",
    "    print(f\"Value Counts for {column}:\")\n",
    "    print(df[column].value_counts())\n",
    "\n",
    "# Generate descriptive statistics\n",
    "statistics = df.describe()\n",
    "print(\"Descriptive Statistics:\")\n",
    "print(statistics)\n",
    "\n",
    "# Group by 'patient_id' and 'view' columns and count the occurrences\n",
    "grouped_counts = df.groupby(['patient_id', 'view']).size().reset_index(name='counts')\n",
    "print(\"Grouped Counts:\")\n",
    "print(grouped_counts)\n",
    "\n",
    "# Generate descriptions based on the data\n",
    "def generate_description(row):\n",
    "    # Add your logic here to generate descriptions based on the row data\n",
    "    return \"\"\n",
    "\n",
    "descriptions = df.apply(generate_description, axis=1)\n",
    "print(\"Descriptions:\")\n",
    "print(descriptions)"
   ]
  },
  {
   "cell_type": "code",
   "execution_count": 38,
   "metadata": {},
   "outputs": [],
   "source": [
    "df.dropna(inplace=True)"
   ]
  },
  {
   "cell_type": "code",
   "execution_count": 39,
   "metadata": {},
   "outputs": [
    {
     "data": {
      "text/plain": [
       "site_id                    0\n",
       "patient_id                 0\n",
       "image_id                   0\n",
       "laterality                 0\n",
       "view                       0\n",
       "age                        0\n",
       "cancer                     0\n",
       "biopsy                     0\n",
       "invasive                   0\n",
       "BIRADS                     0\n",
       "implant                    0\n",
       "density                    0\n",
       "machine_id                 0\n",
       "difficult_negative_case    0\n",
       "fold                       0\n",
       "dtype: int64"
      ]
     },
     "execution_count": 39,
     "metadata": {},
     "output_type": "execute_result"
    }
   ],
   "source": [
    "df.isna().sum()"
   ]
  },
  {
   "cell_type": "code",
   "execution_count": 40,
   "metadata": {},
   "outputs": [
    {
     "data": {
      "text/html": [
       "<div>\n",
       "<style scoped>\n",
       "    .dataframe tbody tr th:only-of-type {\n",
       "        vertical-align: middle;\n",
       "    }\n",
       "\n",
       "    .dataframe tbody tr th {\n",
       "        vertical-align: top;\n",
       "    }\n",
       "\n",
       "    .dataframe thead th {\n",
       "        text-align: right;\n",
       "    }\n",
       "</style>\n",
       "<table border=\"1\" class=\"dataframe\">\n",
       "  <thead>\n",
       "    <tr style=\"text-align: right;\">\n",
       "      <th></th>\n",
       "      <th>site_id</th>\n",
       "      <th>patient_id</th>\n",
       "      <th>image_id</th>\n",
       "      <th>age</th>\n",
       "      <th>cancer</th>\n",
       "      <th>biopsy</th>\n",
       "      <th>invasive</th>\n",
       "      <th>BIRADS</th>\n",
       "      <th>implant</th>\n",
       "      <th>machine_id</th>\n",
       "      <th>fold</th>\n",
       "    </tr>\n",
       "  </thead>\n",
       "  <tbody>\n",
       "    <tr>\n",
       "      <th>count</th>\n",
       "      <td>23647.0</td>\n",
       "      <td>23647.000000</td>\n",
       "      <td>2.364700e+04</td>\n",
       "      <td>23647.000000</td>\n",
       "      <td>23647.000000</td>\n",
       "      <td>23647.000000</td>\n",
       "      <td>23647.000000</td>\n",
       "      <td>23647.000000</td>\n",
       "      <td>23647.000000</td>\n",
       "      <td>23647.000000</td>\n",
       "      <td>23647.000000</td>\n",
       "    </tr>\n",
       "    <tr>\n",
       "      <th>mean</th>\n",
       "      <td>1.0</td>\n",
       "      <td>32766.921935</td>\n",
       "      <td>1.079847e+09</td>\n",
       "      <td>57.237451</td>\n",
       "      <td>0.028080</td>\n",
       "      <td>0.099505</td>\n",
       "      <td>0.019030</td>\n",
       "      <td>0.855584</td>\n",
       "      <td>0.051888</td>\n",
       "      <td>74.967987</td>\n",
       "      <td>1.502558</td>\n",
       "    </tr>\n",
       "    <tr>\n",
       "      <th>std</th>\n",
       "      <td>0.0</td>\n",
       "      <td>18878.822295</td>\n",
       "      <td>6.196677e+08</td>\n",
       "      <td>11.238963</td>\n",
       "      <td>0.165204</td>\n",
       "      <td>0.299345</td>\n",
       "      <td>0.136633</td>\n",
       "      <td>0.560167</td>\n",
       "      <td>0.221806</td>\n",
       "      <td>55.292839</td>\n",
       "      <td>1.119699</td>\n",
       "    </tr>\n",
       "    <tr>\n",
       "      <th>min</th>\n",
       "      <td>1.0</td>\n",
       "      <td>25.000000</td>\n",
       "      <td>6.849100e+04</td>\n",
       "      <td>26.000000</td>\n",
       "      <td>0.000000</td>\n",
       "      <td>0.000000</td>\n",
       "      <td>0.000000</td>\n",
       "      <td>0.000000</td>\n",
       "      <td>0.000000</td>\n",
       "      <td>49.000000</td>\n",
       "      <td>0.000000</td>\n",
       "    </tr>\n",
       "    <tr>\n",
       "      <th>25%</th>\n",
       "      <td>1.0</td>\n",
       "      <td>16789.500000</td>\n",
       "      <td>5.419175e+08</td>\n",
       "      <td>48.000000</td>\n",
       "      <td>0.000000</td>\n",
       "      <td>0.000000</td>\n",
       "      <td>0.000000</td>\n",
       "      <td>1.000000</td>\n",
       "      <td>0.000000</td>\n",
       "      <td>49.000000</td>\n",
       "      <td>0.000000</td>\n",
       "    </tr>\n",
       "    <tr>\n",
       "      <th>50%</th>\n",
       "      <td>1.0</td>\n",
       "      <td>32362.000000</td>\n",
       "      <td>1.086220e+09</td>\n",
       "      <td>57.000000</td>\n",
       "      <td>0.000000</td>\n",
       "      <td>0.000000</td>\n",
       "      <td>0.000000</td>\n",
       "      <td>1.000000</td>\n",
       "      <td>0.000000</td>\n",
       "      <td>49.000000</td>\n",
       "      <td>2.000000</td>\n",
       "    </tr>\n",
       "    <tr>\n",
       "      <th>75%</th>\n",
       "      <td>1.0</td>\n",
       "      <td>49102.000000</td>\n",
       "      <td>1.612557e+09</td>\n",
       "      <td>65.000000</td>\n",
       "      <td>0.000000</td>\n",
       "      <td>0.000000</td>\n",
       "      <td>0.000000</td>\n",
       "      <td>1.000000</td>\n",
       "      <td>0.000000</td>\n",
       "      <td>49.000000</td>\n",
       "      <td>3.000000</td>\n",
       "    </tr>\n",
       "    <tr>\n",
       "      <th>max</th>\n",
       "      <td>1.0</td>\n",
       "      <td>65534.000000</td>\n",
       "      <td>2.147472e+09</td>\n",
       "      <td>89.000000</td>\n",
       "      <td>1.000000</td>\n",
       "      <td>1.000000</td>\n",
       "      <td>1.000000</td>\n",
       "      <td>2.000000</td>\n",
       "      <td>1.000000</td>\n",
       "      <td>216.000000</td>\n",
       "      <td>3.000000</td>\n",
       "    </tr>\n",
       "  </tbody>\n",
       "</table>\n",
       "</div>"
      ],
      "text/plain": [
       "       site_id    patient_id      image_id           age        cancer  \\\n",
       "count  23647.0  23647.000000  2.364700e+04  23647.000000  23647.000000   \n",
       "mean       1.0  32766.921935  1.079847e+09     57.237451      0.028080   \n",
       "std        0.0  18878.822295  6.196677e+08     11.238963      0.165204   \n",
       "min        1.0     25.000000  6.849100e+04     26.000000      0.000000   \n",
       "25%        1.0  16789.500000  5.419175e+08     48.000000      0.000000   \n",
       "50%        1.0  32362.000000  1.086220e+09     57.000000      0.000000   \n",
       "75%        1.0  49102.000000  1.612557e+09     65.000000      0.000000   \n",
       "max        1.0  65534.000000  2.147472e+09     89.000000      1.000000   \n",
       "\n",
       "             biopsy      invasive        BIRADS       implant    machine_id  \\\n",
       "count  23647.000000  23647.000000  23647.000000  23647.000000  23647.000000   \n",
       "mean       0.099505      0.019030      0.855584      0.051888     74.967987   \n",
       "std        0.299345      0.136633      0.560167      0.221806     55.292839   \n",
       "min        0.000000      0.000000      0.000000      0.000000     49.000000   \n",
       "25%        0.000000      0.000000      1.000000      0.000000     49.000000   \n",
       "50%        0.000000      0.000000      1.000000      0.000000     49.000000   \n",
       "75%        0.000000      0.000000      1.000000      0.000000     49.000000   \n",
       "max        1.000000      1.000000      2.000000      1.000000    216.000000   \n",
       "\n",
       "               fold  \n",
       "count  23647.000000  \n",
       "mean       1.502558  \n",
       "std        1.119699  \n",
       "min        0.000000  \n",
       "25%        0.000000  \n",
       "50%        2.000000  \n",
       "75%        3.000000  \n",
       "max        3.000000  "
      ]
     },
     "execution_count": 40,
     "metadata": {},
     "output_type": "execute_result"
    }
   ],
   "source": [
    "df.describe()"
   ]
  },
  {
   "cell_type": "code",
   "execution_count": 41,
   "metadata": {},
   "outputs": [],
   "source": [
    "# Convert 'age' column to integer type\n",
    "df['age'] = df['age'].astype(int)\n"
   ]
  },
  {
   "cell_type": "code",
   "execution_count": 42,
   "metadata": {},
   "outputs": [
    {
     "data": {
      "text/plain": [
       "(23647, 15)"
      ]
     },
     "execution_count": 42,
     "metadata": {},
     "output_type": "execute_result"
    }
   ],
   "source": [
    "df.shape"
   ]
  },
  {
   "cell_type": "code",
   "execution_count": 43,
   "metadata": {},
   "outputs": [
    {
     "data": {
      "text/plain": [
       "BIRADS\n",
       "1.0    15734\n",
       "0.0     5664\n",
       "2.0     2249\n",
       "Name: count, dtype: int64"
      ]
     },
     "execution_count": 43,
     "metadata": {},
     "output_type": "execute_result"
    }
   ],
   "source": [
    "df.BIRADS.value_counts()"
   ]
  },
  {
   "cell_type": "code",
   "execution_count": 44,
   "metadata": {},
   "outputs": [],
   "source": [
    "def generate_description(row):\n",
    "    density_mapping = {\n",
    "        'A': 'Almost entirely fatty: The breasts are composed of mostly fatty tissue.',\n",
    "        'B': 'Scattered fibroglandular densities: There are scattered areas of dense fibroglandular tissue.',\n",
    "        'C': 'Heterogeneously dense: The breasts have heterogeneously dense tissue, which may obscure small masses.',\n",
    "        'D': 'Extremely dense: The breasts are extremely dense, which may lower the sensitivity of mammography.'\n",
    "    }\n",
    "    BIRADS = row['BIRADS']\n",
    "    BIRADS_Assessment_Description = {\n",
    "        0: 'Incomplete: Need additional imaging evaluation.',\n",
    "        1: 'Negative: No mammographic evidence of malignancy.',\n",
    "        2: 'Benign: No mammographic evidence of malignancy.',\n",
    "        3: 'Probably benign: <2% risk of malignancy.',\n",
    "        4: 'Suspicious: 2-94% risk of malignancy.',\n",
    "        5: 'Highly suggestive of malignancy: >95% risk of malignancy.',\n",
    "        6: 'Known biopsy-proven malignancy.'\n",
    "    }.get(BIRADS, '[Not provided]')\n",
    "    cancer = 'Cancer present' if row['cancer'] == 1 else 'No cancer present'\n",
    "    biopsy = 'Biopsy performed' if row['biopsy'] == 1 else 'No biopsy performed'\n",
    "    invasive = 'Invasive cancer' if row['invasive'] == 1 else 'Non-invasive cancer'\n",
    "    density_description = density_mapping.get(row['density'], '[Not provided]')\n",
    "    difficult_negative_case = 'A difficult negative case' if row['difficult_negative_case'] == 1 else ''\n",
    "    \n",
    "    # Fill None values with a specified value\n",
    "    laterality = row['laterality'] if row['laterality'] is not None else '[Not provided]'\n",
    "    view = row['view'] if row['view'] is not None else '[Not provided]'\n",
    "    age = row['age'] if row['age'] is not None else '[Not provided]'\n",
    "    \n",
    "    report =f\"\"\"Procedure Reported: \\nDigital mammography, both breasts. Laterality: {laterality}, View: {view} .\\n\n",
    "Breast Composition: {density_description} \\n\n",
    "Patient Age: {age}  \\n\n",
    "Impression:\n",
    "{cancer} \n",
    "{biopsy} \n",
    "{invasive}\n",
    "{difficult_negative_case}\n",
    "BI-RADS Assessment:\n",
    "- Category {BIRADS}: {BIRADS_Assessment_Description} \"\"\"\n",
    "    report = report.replace('\\n', \" \")\n",
    "    return report\n"
   ]
  },
  {
   "cell_type": "code",
   "execution_count": 45,
   "metadata": {},
   "outputs": [],
   "source": [
    "test_text = generate_description(df.iloc[200])"
   ]
  },
  {
   "cell_type": "code",
   "execution_count": 58,
   "metadata": {},
   "outputs": [
    {
     "data": {
      "text/plain": [
       "'Procedure Reported:  Digital mammography, both breasts. Laterality: R, View: CC .  Breast Composition: Scattered fibroglandular densities: There are scattered areas of dense fibroglandular tissue.   Patient Age: 45    Imression: No cancer present  No biopsy performed  Non-invasive cancer  BI-RADS Assessment: - Category 1.0: Negative: No mammographic evidence of malignancy. '"
      ]
     },
     "execution_count": 58,
     "metadata": {},
     "output_type": "execute_result"
    }
   ],
   "source": [
    "test_text"
   ]
  },
  {
   "cell_type": "code",
   "execution_count": 47,
   "metadata": {},
   "outputs": [
    {
     "data": {
      "text/html": [
       "<div>\n",
       "<style scoped>\n",
       "    .dataframe tbody tr th:only-of-type {\n",
       "        vertical-align: middle;\n",
       "    }\n",
       "\n",
       "    .dataframe tbody tr th {\n",
       "        vertical-align: top;\n",
       "    }\n",
       "\n",
       "    .dataframe thead th {\n",
       "        text-align: right;\n",
       "    }\n",
       "</style>\n",
       "<table border=\"1\" class=\"dataframe\">\n",
       "  <thead>\n",
       "    <tr style=\"text-align: right;\">\n",
       "      <th></th>\n",
       "      <th>site_id</th>\n",
       "      <th>patient_id</th>\n",
       "      <th>image_id</th>\n",
       "      <th>laterality</th>\n",
       "      <th>view</th>\n",
       "      <th>age</th>\n",
       "      <th>cancer</th>\n",
       "      <th>biopsy</th>\n",
       "      <th>invasive</th>\n",
       "      <th>BIRADS</th>\n",
       "      <th>implant</th>\n",
       "      <th>density</th>\n",
       "      <th>machine_id</th>\n",
       "      <th>difficult_negative_case</th>\n",
       "      <th>fold</th>\n",
       "    </tr>\n",
       "  </thead>\n",
       "  <tbody>\n",
       "    <tr>\n",
       "      <th>12</th>\n",
       "      <td>1</td>\n",
       "      <td>10038</td>\n",
       "      <td>1967300488</td>\n",
       "      <td>L</td>\n",
       "      <td>MLO</td>\n",
       "      <td>60</td>\n",
       "      <td>0</td>\n",
       "      <td>0</td>\n",
       "      <td>0</td>\n",
       "      <td>1.0</td>\n",
       "      <td>0</td>\n",
       "      <td>C</td>\n",
       "      <td>216</td>\n",
       "      <td>False</td>\n",
       "      <td>1</td>\n",
       "    </tr>\n",
       "    <tr>\n",
       "      <th>13</th>\n",
       "      <td>1</td>\n",
       "      <td>10038</td>\n",
       "      <td>2142944869</td>\n",
       "      <td>L</td>\n",
       "      <td>CC</td>\n",
       "      <td>60</td>\n",
       "      <td>0</td>\n",
       "      <td>0</td>\n",
       "      <td>0</td>\n",
       "      <td>1.0</td>\n",
       "      <td>0</td>\n",
       "      <td>C</td>\n",
       "      <td>216</td>\n",
       "      <td>False</td>\n",
       "      <td>1</td>\n",
       "    </tr>\n",
       "    <tr>\n",
       "      <th>14</th>\n",
       "      <td>1</td>\n",
       "      <td>10038</td>\n",
       "      <td>850559196</td>\n",
       "      <td>R</td>\n",
       "      <td>MLO</td>\n",
       "      <td>60</td>\n",
       "      <td>0</td>\n",
       "      <td>0</td>\n",
       "      <td>0</td>\n",
       "      <td>1.0</td>\n",
       "      <td>0</td>\n",
       "      <td>C</td>\n",
       "      <td>216</td>\n",
       "      <td>False</td>\n",
       "      <td>1</td>\n",
       "    </tr>\n",
       "    <tr>\n",
       "      <th>15</th>\n",
       "      <td>1</td>\n",
       "      <td>10038</td>\n",
       "      <td>1350492010</td>\n",
       "      <td>R</td>\n",
       "      <td>CC</td>\n",
       "      <td>60</td>\n",
       "      <td>0</td>\n",
       "      <td>0</td>\n",
       "      <td>0</td>\n",
       "      <td>1.0</td>\n",
       "      <td>0</td>\n",
       "      <td>C</td>\n",
       "      <td>216</td>\n",
       "      <td>False</td>\n",
       "      <td>1</td>\n",
       "    </tr>\n",
       "    <tr>\n",
       "      <th>16</th>\n",
       "      <td>1</td>\n",
       "      <td>10042</td>\n",
       "      <td>102733848</td>\n",
       "      <td>L</td>\n",
       "      <td>CC</td>\n",
       "      <td>51</td>\n",
       "      <td>0</td>\n",
       "      <td>0</td>\n",
       "      <td>0</td>\n",
       "      <td>1.0</td>\n",
       "      <td>0</td>\n",
       "      <td>C</td>\n",
       "      <td>93</td>\n",
       "      <td>False</td>\n",
       "      <td>2</td>\n",
       "    </tr>\n",
       "    <tr>\n",
       "      <th>...</th>\n",
       "      <td>...</td>\n",
       "      <td>...</td>\n",
       "      <td>...</td>\n",
       "      <td>...</td>\n",
       "      <td>...</td>\n",
       "      <td>...</td>\n",
       "      <td>...</td>\n",
       "      <td>...</td>\n",
       "      <td>...</td>\n",
       "      <td>...</td>\n",
       "      <td>...</td>\n",
       "      <td>...</td>\n",
       "      <td>...</td>\n",
       "      <td>...</td>\n",
       "      <td>...</td>\n",
       "    </tr>\n",
       "    <tr>\n",
       "      <th>54699</th>\n",
       "      <td>1</td>\n",
       "      <td>9973</td>\n",
       "      <td>1703611570</td>\n",
       "      <td>L</td>\n",
       "      <td>MLO</td>\n",
       "      <td>43</td>\n",
       "      <td>0</td>\n",
       "      <td>0</td>\n",
       "      <td>0</td>\n",
       "      <td>1.0</td>\n",
       "      <td>0</td>\n",
       "      <td>C</td>\n",
       "      <td>49</td>\n",
       "      <td>False</td>\n",
       "      <td>0</td>\n",
       "    </tr>\n",
       "    <tr>\n",
       "      <th>54700</th>\n",
       "      <td>1</td>\n",
       "      <td>9973</td>\n",
       "      <td>655941939</td>\n",
       "      <td>R</td>\n",
       "      <td>CC</td>\n",
       "      <td>43</td>\n",
       "      <td>0</td>\n",
       "      <td>0</td>\n",
       "      <td>0</td>\n",
       "      <td>1.0</td>\n",
       "      <td>0</td>\n",
       "      <td>C</td>\n",
       "      <td>49</td>\n",
       "      <td>False</td>\n",
       "      <td>0</td>\n",
       "    </tr>\n",
       "    <tr>\n",
       "      <th>54701</th>\n",
       "      <td>1</td>\n",
       "      <td>9973</td>\n",
       "      <td>1729524723</td>\n",
       "      <td>R</td>\n",
       "      <td>MLO</td>\n",
       "      <td>43</td>\n",
       "      <td>0</td>\n",
       "      <td>0</td>\n",
       "      <td>0</td>\n",
       "      <td>1.0</td>\n",
       "      <td>0</td>\n",
       "      <td>C</td>\n",
       "      <td>49</td>\n",
       "      <td>False</td>\n",
       "      <td>0</td>\n",
       "    </tr>\n",
       "    <tr>\n",
       "      <th>54704</th>\n",
       "      <td>1</td>\n",
       "      <td>9989</td>\n",
       "      <td>398038886</td>\n",
       "      <td>R</td>\n",
       "      <td>MLO</td>\n",
       "      <td>60</td>\n",
       "      <td>0</td>\n",
       "      <td>0</td>\n",
       "      <td>0</td>\n",
       "      <td>0.0</td>\n",
       "      <td>0</td>\n",
       "      <td>C</td>\n",
       "      <td>216</td>\n",
       "      <td>True</td>\n",
       "      <td>2</td>\n",
       "    </tr>\n",
       "    <tr>\n",
       "      <th>54705</th>\n",
       "      <td>1</td>\n",
       "      <td>9989</td>\n",
       "      <td>439796429</td>\n",
       "      <td>R</td>\n",
       "      <td>CC</td>\n",
       "      <td>60</td>\n",
       "      <td>0</td>\n",
       "      <td>0</td>\n",
       "      <td>0</td>\n",
       "      <td>0.0</td>\n",
       "      <td>0</td>\n",
       "      <td>C</td>\n",
       "      <td>216</td>\n",
       "      <td>True</td>\n",
       "      <td>2</td>\n",
       "    </tr>\n",
       "  </tbody>\n",
       "</table>\n",
       "<p>23647 rows × 15 columns</p>\n",
       "</div>"
      ],
      "text/plain": [
       "       site_id  patient_id    image_id laterality view  age  cancer  biopsy  \\\n",
       "12           1       10038  1967300488          L  MLO   60       0       0   \n",
       "13           1       10038  2142944869          L   CC   60       0       0   \n",
       "14           1       10038   850559196          R  MLO   60       0       0   \n",
       "15           1       10038  1350492010          R   CC   60       0       0   \n",
       "16           1       10042   102733848          L   CC   51       0       0   \n",
       "...        ...         ...         ...        ...  ...  ...     ...     ...   \n",
       "54699        1        9973  1703611570          L  MLO   43       0       0   \n",
       "54700        1        9973   655941939          R   CC   43       0       0   \n",
       "54701        1        9973  1729524723          R  MLO   43       0       0   \n",
       "54704        1        9989   398038886          R  MLO   60       0       0   \n",
       "54705        1        9989   439796429          R   CC   60       0       0   \n",
       "\n",
       "       invasive  BIRADS  implant density  machine_id  difficult_negative_case  \\\n",
       "12            0     1.0        0       C         216                    False   \n",
       "13            0     1.0        0       C         216                    False   \n",
       "14            0     1.0        0       C         216                    False   \n",
       "15            0     1.0        0       C         216                    False   \n",
       "16            0     1.0        0       C          93                    False   \n",
       "...         ...     ...      ...     ...         ...                      ...   \n",
       "54699         0     1.0        0       C          49                    False   \n",
       "54700         0     1.0        0       C          49                    False   \n",
       "54701         0     1.0        0       C          49                    False   \n",
       "54704         0     0.0        0       C         216                     True   \n",
       "54705         0     0.0        0       C         216                     True   \n",
       "\n",
       "       fold  \n",
       "12        1  \n",
       "13        1  \n",
       "14        1  \n",
       "15        1  \n",
       "16        2  \n",
       "...     ...  \n",
       "54699     0  \n",
       "54700     0  \n",
       "54701     0  \n",
       "54704     2  \n",
       "54705     2  \n",
       "\n",
       "[23647 rows x 15 columns]"
      ]
     },
     "execution_count": 47,
     "metadata": {},
     "output_type": "execute_result"
    }
   ],
   "source": [
    "df"
   ]
  },
  {
   "cell_type": "code",
   "execution_count": 48,
   "metadata": {},
   "outputs": [],
   "source": [
    "df['text'] = df.apply(generate_description, axis=1)"
   ]
  },
  {
   "cell_type": "markdown",
   "metadata": {},
   "source": [
    "### Set according to VinDr dataset"
   ]
  },
  {
   "cell_type": "code",
   "execution_count": 124,
   "metadata": {},
   "outputs": [
    {
     "data": {
      "text/html": [
       "<div>\n",
       "<style scoped>\n",
       "    .dataframe tbody tr th:only-of-type {\n",
       "        vertical-align: middle;\n",
       "    }\n",
       "\n",
       "    .dataframe tbody tr th {\n",
       "        vertical-align: top;\n",
       "    }\n",
       "\n",
       "    .dataframe thead th {\n",
       "        text-align: right;\n",
       "    }\n",
       "</style>\n",
       "<table border=\"1\" class=\"dataframe\">\n",
       "  <thead>\n",
       "    <tr style=\"text-align: right;\">\n",
       "      <th></th>\n",
       "      <th>patient_id</th>\n",
       "      <th>laterality</th>\n",
       "      <th>cc_image_paths</th>\n",
       "      <th>mlo_image_paths</th>\n",
       "      <th>image_ids</th>\n",
       "      <th>views</th>\n",
       "      <th>fold</th>\n",
       "      <th>cancer</th>\n",
       "      <th>biopsy</th>\n",
       "      <th>invasive</th>\n",
       "      <th>density</th>\n",
       "      <th>age</th>\n",
       "      <th>birads</th>\n",
       "    </tr>\n",
       "  </thead>\n",
       "  <tbody>\n",
       "    <tr>\n",
       "      <th>0</th>\n",
       "      <td>5</td>\n",
       "      <td>L</td>\n",
       "      <td>[1351088028]</td>\n",
       "      <td>[640805896]</td>\n",
       "      <td>[640805896, 1351088028]</td>\n",
       "      <td>[MLO, CC]</td>\n",
       "      <td>3</td>\n",
       "      <td>0</td>\n",
       "      <td>0</td>\n",
       "      <td>0</td>\n",
       "      <td>NaN</td>\n",
       "      <td>68.0</td>\n",
       "      <td>0.0</td>\n",
       "    </tr>\n",
       "    <tr>\n",
       "      <th>1</th>\n",
       "      <td>5</td>\n",
       "      <td>R</td>\n",
       "      <td>[940388076]</td>\n",
       "      <td>[1633417959]</td>\n",
       "      <td>[940388076, 1633417959]</td>\n",
       "      <td>[CC, MLO]</td>\n",
       "      <td>3</td>\n",
       "      <td>0</td>\n",
       "      <td>0</td>\n",
       "      <td>0</td>\n",
       "      <td>NaN</td>\n",
       "      <td>68.0</td>\n",
       "      <td>NaN</td>\n",
       "    </tr>\n",
       "    <tr>\n",
       "      <th>2</th>\n",
       "      <td>25</td>\n",
       "      <td>L</td>\n",
       "      <td>[1789648218]</td>\n",
       "      <td>[1442180348]</td>\n",
       "      <td>[1442180348, 1789648218]</td>\n",
       "      <td>[MLO, CC]</td>\n",
       "      <td>1</td>\n",
       "      <td>0</td>\n",
       "      <td>0</td>\n",
       "      <td>0</td>\n",
       "      <td>B</td>\n",
       "      <td>62.0</td>\n",
       "      <td>1.0</td>\n",
       "    </tr>\n",
       "    <tr>\n",
       "      <th>3</th>\n",
       "      <td>25</td>\n",
       "      <td>R</td>\n",
       "      <td>[822390278, 1997933901]</td>\n",
       "      <td>[1723979573, 1962456803]</td>\n",
       "      <td>[822390278, 1723979573, 1962456803, 1997933901]</td>\n",
       "      <td>[CC, MLO, MLO, CC]</td>\n",
       "      <td>1</td>\n",
       "      <td>0</td>\n",
       "      <td>0</td>\n",
       "      <td>0</td>\n",
       "      <td>B</td>\n",
       "      <td>62.0</td>\n",
       "      <td>1.0</td>\n",
       "    </tr>\n",
       "    <tr>\n",
       "      <th>4</th>\n",
       "      <td>28</td>\n",
       "      <td>L</td>\n",
       "      <td>[825270681]</td>\n",
       "      <td>[1113093954]</td>\n",
       "      <td>[825270681, 1113093954]</td>\n",
       "      <td>[CC, MLO]</td>\n",
       "      <td>3</td>\n",
       "      <td>0</td>\n",
       "      <td>0</td>\n",
       "      <td>0</td>\n",
       "      <td>B</td>\n",
       "      <td>40.0</td>\n",
       "      <td>1.0</td>\n",
       "    </tr>\n",
       "  </tbody>\n",
       "</table>\n",
       "</div>"
      ],
      "text/plain": [
       "   patient_id laterality           cc_image_paths           mlo_image_paths  \\\n",
       "0           5          L             [1351088028]               [640805896]   \n",
       "1           5          R              [940388076]              [1633417959]   \n",
       "2          25          L             [1789648218]              [1442180348]   \n",
       "3          25          R  [822390278, 1997933901]  [1723979573, 1962456803]   \n",
       "4          28          L              [825270681]              [1113093954]   \n",
       "\n",
       "                                         image_ids               views  fold  \\\n",
       "0                          [640805896, 1351088028]           [MLO, CC]     3   \n",
       "1                          [940388076, 1633417959]           [CC, MLO]     3   \n",
       "2                         [1442180348, 1789648218]           [MLO, CC]     1   \n",
       "3  [822390278, 1723979573, 1962456803, 1997933901]  [CC, MLO, MLO, CC]     1   \n",
       "4                          [825270681, 1113093954]           [CC, MLO]     3   \n",
       "\n",
       "   cancer  biopsy  invasive density   age  birads  \n",
       "0       0       0         0     NaN  68.0     0.0  \n",
       "1       0       0         0     NaN  68.0     NaN  \n",
       "2       0       0         0       B  62.0     1.0  \n",
       "3       0       0         0       B  62.0     1.0  \n",
       "4       0       0         0       B  40.0     1.0  "
      ]
     },
     "execution_count": 124,
     "metadata": {},
     "output_type": "execute_result"
    }
   ],
   "source": [
    "# Define a function to filter views and return lists based on the view type\n",
    "def filter_by_view(group, view_type):\n",
    "    return [group[group['view'] == view_type]['image_id'].tolist()]\n",
    "\n",
    "# Group by 'patient_id', 'laterality' and aggregate necessary information including 'split'\n",
    "new_df = df.groupby(['patient_id', 'laterality']).apply(lambda group: pd.Series({  # Assuming 'split' is consistent within each 'patient_id', 'laterality' group\n",
    "    'cc_image_paths': filter_by_view(group, 'CC')[0],\n",
    "    'mlo_image_paths': filter_by_view(group, 'MLO')[0],\n",
    "    'image_ids': group['image_id'].tolist(),\n",
    "    'views': group['view'].tolist(),\n",
    "    'fold': group['fold'].iloc[0],\n",
    "    'cancer': group['cancer'].iloc[0],\n",
    "    'biopsy': group['biopsy'].iloc[0],\n",
    "    'invasive': group['invasive'].iloc[0],\n",
    "    'density': group['density'].iloc[0],\n",
    "    'age': group['age'].iloc[0],\n",
    "    'birads': group['BIRADS'].iloc[0],\n",
    "    # 'text': group['text'].tolist(),\n",
    "})).reset_index()\n",
    "\n",
    "new_df.head(5)"
   ]
  },
  {
   "cell_type": "code",
   "execution_count": 111,
   "metadata": {},
   "outputs": [
    {
     "data": {
      "text/plain": [
       "patient_id\n",
       "5        0\n",
       "25       1\n",
       "28       1\n",
       "30       0\n",
       "33       1\n",
       "        ..\n",
       "65518    0\n",
       "65525    0\n",
       "65526    0\n",
       "65530    1\n",
       "65534    1\n",
       "Name: density, Length: 11913, dtype: int64"
      ]
     },
     "execution_count": 111,
     "metadata": {},
     "output_type": "execute_result"
    }
   ],
   "source": [
    "df.groupby('patient_id')['density'].nunique()"
   ]
  },
  {
   "cell_type": "code",
   "execution_count": 114,
   "metadata": {},
   "outputs": [
    {
     "data": {
      "text/plain": [
       "11905"
      ]
     },
     "execution_count": 114,
     "metadata": {},
     "output_type": "execute_result"
    }
   ],
   "source": [
    "df.groupby('patient_id')['age'].nunique().sum()"
   ]
  },
  {
   "cell_type": "code",
   "execution_count": 112,
   "metadata": {},
   "outputs": [
    {
     "data": {
      "text/plain": [
       "[]"
      ]
     },
     "execution_count": 112,
     "metadata": {},
     "output_type": "execute_result"
    }
   ],
   "source": [
    "patients_with_multiple_ages = df.groupby('patient_id')['age'].nunique().loc[lambda x: x > 1].index.tolist()\n",
    "patients_with_multiple_ages"
   ]
  },
  {
   "cell_type": "code",
   "execution_count": 109,
   "metadata": {},
   "outputs": [
    {
     "data": {
      "text/plain": [
       "11913"
      ]
     },
     "execution_count": 109,
     "metadata": {},
     "output_type": "execute_result"
    }
   ],
   "source": [
    "df.patient_id.nunique()"
   ]
  },
  {
   "cell_type": "code",
   "execution_count": 106,
   "metadata": {},
   "outputs": [
    {
     "data": {
      "text/plain": [
       "False"
      ]
     },
     "execution_count": 106,
     "metadata": {},
     "output_type": "execute_result"
    }
   ],
   "source": [
    "age_different"
   ]
  },
  {
   "cell_type": "markdown",
   "metadata": {},
   "source": [
    "previously RSNA had 54706 Image Ids "
   ]
  },
  {
   "cell_type": "code",
   "execution_count": 90,
   "metadata": {},
   "outputs": [
    {
     "data": {
      "text/plain": [
       "(54706, 15)"
      ]
     },
     "execution_count": 90,
     "metadata": {},
     "output_type": "execute_result"
    }
   ],
   "source": [
    "df.shape"
   ]
  },
  {
   "cell_type": "code",
   "execution_count": 96,
   "metadata": {},
   "outputs": [
    {
     "data": {
      "text/html": [
       "<div>\n",
       "<style scoped>\n",
       "    .dataframe tbody tr th:only-of-type {\n",
       "        vertical-align: middle;\n",
       "    }\n",
       "\n",
       "    .dataframe tbody tr th {\n",
       "        vertical-align: top;\n",
       "    }\n",
       "\n",
       "    .dataframe thead th {\n",
       "        text-align: right;\n",
       "    }\n",
       "</style>\n",
       "<table border=\"1\" class=\"dataframe\">\n",
       "  <thead>\n",
       "    <tr style=\"text-align: right;\">\n",
       "      <th></th>\n",
       "      <th>patient_id</th>\n",
       "      <th>laterality</th>\n",
       "      <th>counts</th>\n",
       "    </tr>\n",
       "  </thead>\n",
       "  <tbody>\n",
       "    <tr>\n",
       "      <th>0</th>\n",
       "      <td>5</td>\n",
       "      <td>L</td>\n",
       "      <td>2</td>\n",
       "    </tr>\n",
       "    <tr>\n",
       "      <th>1</th>\n",
       "      <td>5</td>\n",
       "      <td>R</td>\n",
       "      <td>2</td>\n",
       "    </tr>\n",
       "    <tr>\n",
       "      <th>2</th>\n",
       "      <td>25</td>\n",
       "      <td>L</td>\n",
       "      <td>2</td>\n",
       "    </tr>\n",
       "    <tr>\n",
       "      <th>3</th>\n",
       "      <td>25</td>\n",
       "      <td>R</td>\n",
       "      <td>4</td>\n",
       "    </tr>\n",
       "    <tr>\n",
       "      <th>4</th>\n",
       "      <td>28</td>\n",
       "      <td>L</td>\n",
       "      <td>2</td>\n",
       "    </tr>\n",
       "    <tr>\n",
       "      <th>...</th>\n",
       "      <td>...</td>\n",
       "      <td>...</td>\n",
       "      <td>...</td>\n",
       "    </tr>\n",
       "    <tr>\n",
       "      <th>23821</th>\n",
       "      <td>65526</td>\n",
       "      <td>R</td>\n",
       "      <td>2</td>\n",
       "    </tr>\n",
       "    <tr>\n",
       "      <th>23822</th>\n",
       "      <td>65530</td>\n",
       "      <td>L</td>\n",
       "      <td>3</td>\n",
       "    </tr>\n",
       "    <tr>\n",
       "      <th>23823</th>\n",
       "      <td>65530</td>\n",
       "      <td>R</td>\n",
       "      <td>3</td>\n",
       "    </tr>\n",
       "    <tr>\n",
       "      <th>23824</th>\n",
       "      <td>65534</td>\n",
       "      <td>L</td>\n",
       "      <td>2</td>\n",
       "    </tr>\n",
       "    <tr>\n",
       "      <th>23825</th>\n",
       "      <td>65534</td>\n",
       "      <td>R</td>\n",
       "      <td>2</td>\n",
       "    </tr>\n",
       "  </tbody>\n",
       "</table>\n",
       "<p>23826 rows × 3 columns</p>\n",
       "</div>"
      ],
      "text/plain": [
       "       patient_id laterality  counts\n",
       "0               5          L       2\n",
       "1               5          R       2\n",
       "2              25          L       2\n",
       "3              25          R       4\n",
       "4              28          L       2\n",
       "...           ...        ...     ...\n",
       "23821       65526          R       2\n",
       "23822       65530          L       3\n",
       "23823       65530          R       3\n",
       "23824       65534          L       2\n",
       "23825       65534          R       2\n",
       "\n",
       "[23826 rows x 3 columns]"
      ]
     },
     "execution_count": 96,
     "metadata": {},
     "output_type": "execute_result"
    }
   ],
   "source": [
    "df.groupby(['patient_id', 'laterality']).size().reset_index(name='counts')"
   ]
  },
  {
   "cell_type": "markdown",
   "metadata": {},
   "source": [
    "After grouping the views according to patient ID and laterality"
   ]
  },
  {
   "cell_type": "code",
   "execution_count": 88,
   "metadata": {},
   "outputs": [
    {
     "data": {
      "text/plain": [
       "(23826, 13)"
      ]
     },
     "execution_count": 88,
     "metadata": {},
     "output_type": "execute_result"
    }
   ],
   "source": [
    "new_df.shape"
   ]
  },
  {
   "cell_type": "code",
   "execution_count": 93,
   "metadata": {},
   "outputs": [
    {
     "data": {
      "text/plain": [
       "23826.0"
      ]
     },
     "execution_count": 93,
     "metadata": {},
     "output_type": "execute_result"
    }
   ],
   "source": [
    "54706/2.296063124317972"
   ]
  },
  {
   "cell_type": "code",
   "execution_count": 85,
   "metadata": {},
   "outputs": [
    {
     "data": {
      "text/plain": [
       "2.296063124317972"
      ]
     },
     "execution_count": 85,
     "metadata": {},
     "output_type": "execute_result"
    }
   ],
   "source": [
    "df.groupby(['patient_id', 'laterality'])['view'].size().mean()"
   ]
  },
  {
   "cell_type": "code",
   "execution_count": 97,
   "metadata": {},
   "outputs": [
    {
     "data": {
      "text/plain": [
       "patient_id             0\n",
       "laterality             0\n",
       "cc_image_paths         0\n",
       "mlo_image_paths        0\n",
       "image_ids              0\n",
       "views                  0\n",
       "fold                   0\n",
       "cancer                 0\n",
       "biopsy                 0\n",
       "invasive               0\n",
       "density            12208\n",
       "age                   16\n",
       "birads             13221\n",
       "dtype: int64"
      ]
     },
     "execution_count": 97,
     "metadata": {},
     "output_type": "execute_result"
    }
   ],
   "source": [
    "new_df.isna().sum()"
   ]
  },
  {
   "cell_type": "markdown",
   "metadata": {},
   "source": [
    "after removing 13221 NA value samples from BIRADS"
   ]
  },
  {
   "cell_type": "code",
   "execution_count": 98,
   "metadata": {},
   "outputs": [
    {
     "data": {
      "text/plain": [
       "10605"
      ]
     },
     "execution_count": 98,
     "metadata": {},
     "output_type": "execute_result"
    }
   ],
   "source": [
    "23826-13221"
   ]
  },
  {
   "cell_type": "code",
   "execution_count": 126,
   "metadata": {},
   "outputs": [],
   "source": [
    "new_df.dropna(subset=['birads'], inplace=True)\n"
   ]
  },
  {
   "cell_type": "code",
   "execution_count": 127,
   "metadata": {},
   "outputs": [
    {
     "data": {
      "text/plain": [
       "(10605, 13)"
      ]
     },
     "execution_count": 127,
     "metadata": {},
     "output_type": "execute_result"
    }
   ],
   "source": [
    "new_df.shape"
   ]
  },
  {
   "cell_type": "code",
   "execution_count": 57,
   "metadata": {},
   "outputs": [
    {
     "data": {
      "image/png": "[encoded data removed]",
      "text/plain": [
       "<Figure size 640x480 with 1 Axes>"
      ]
     },
     "metadata": {},
     "output_type": "display_data"
    },
    {
     "data": {
      "image/png": "[encoded data removed]",
      "text/plain": [
       "<Figure size 640x480 with 1 Axes>"
      ]
     },
     "metadata": {},
     "output_type": "display_data"
    },
    {
     "data": {
      "image/png": "[encoded data removed]",
      "text/plain": [
       "<Figure size 640x480 with 1 Axes>"
      ]
     },
     "metadata": {},
     "output_type": "display_data"
    },
    {
     "data": {
      "image/png": "[encoded data removed]",
      "text/plain": [
       "<Figure size 640x480 with 1 Axes>"
      ]
     },
     "metadata": {},
     "output_type": "display_data"
    },
    {
     "data": {
      "image/png": "[encoded data removed]",
      "text/plain": [
       "<Figure size 640x480 with 1 Axes>"
      ]
     },
     "metadata": {},
     "output_type": "display_data"
    },
    {
     "data": {
      "image/png": "[encoded data removed]",
      "text/plain": [
       "<Figure size 640x480 with 1 Axes>"
      ]
     },
     "metadata": {},
     "output_type": "display_data"
    }
   ],
   "source": [
    "new_df['age'].plot(kind='hist', bins=20)\n",
    "plt.xlabel('Age')\n",
    "plt.ylabel('Frequency')\n",
    "plt.title('Age Distribution')\n",
    "plt.show()\n",
    "\n",
    "# Plotting the cancer distribution\n",
    "new_df['cancer'].value_counts().plot(kind='bar')\n",
    "plt.xlabel('Cancer')\n",
    "plt.ylabel('Count')\n",
    "plt.title('Cancer Distribution')\n",
    "plt.show()\n",
    "\n",
    "# Plotting the biopsy distribution\n",
    "new_df['biopsy'].value_counts().plot(kind='bar')\n",
    "plt.xlabel('Biopsy')\n",
    "plt.ylabel('Count')\n",
    "plt.title('Biopsy Distribution')\n",
    "plt.show()\n",
    "\n",
    "# Plotting the invasive distribution\n",
    "new_df['invasive'].value_counts().plot(kind='bar')\n",
    "plt.xlabel('Invasive')\n",
    "plt.ylabel('Count')\n",
    "plt.title('Invasive Distribution')\n",
    "plt.show()\n",
    "\n",
    "# Plotting the BIRADS distribution\n",
    "new_df['birads'].value_counts().plot(kind='bar')\n",
    "plt.xlabel('BIRADS')\n",
    "plt.ylabel('Count')\n",
    "plt.title('BIRADS Distribution')\n",
    "plt.show()\n",
    "\n",
    "# Plotting the density distribution\n",
    "new_df['density'].value_counts().plot(kind='bar')\n",
    "plt.xlabel('Density')\n",
    "plt.ylabel('Count')\n",
    "plt.title('Density Distribution')\n",
    "plt.show()"
   ]
  },
  {
   "cell_type": "code",
   "execution_count": 51,
   "metadata": {},
   "outputs": [],
   "source": [
    "new_df.to_csv('/mnt/storage/Devam/mammo-clip-github/Mammo-CLIP/src/codebase/data_csv/train_folds_details.csv', index=False)"
   ]
  },
  {
   "cell_type": "code",
   "execution_count": 50,
   "metadata": {},
   "outputs": [
    {
     "data": {
      "text/plain": [
       "(9321, 14)"
      ]
     },
     "execution_count": 50,
     "metadata": {},
     "output_type": "execute_result"
    }
   ],
   "source": [
    "new_df.shape"
   ]
  },
  {
   "cell_type": "code",
   "execution_count": 20,
   "metadata": {},
   "outputs": [
    {
     "data": {
      "text/html": [
       "<div>\n",
       "<style scoped>\n",
       "    .dataframe tbody tr th:only-of-type {\n",
       "        vertical-align: middle;\n",
       "    }\n",
       "\n",
       "    .dataframe tbody tr th {\n",
       "        vertical-align: top;\n",
       "    }\n",
       "\n",
       "    .dataframe thead th {\n",
       "        text-align: right;\n",
       "    }\n",
       "</style>\n",
       "<table border=\"1\" class=\"dataframe\">\n",
       "  <thead>\n",
       "    <tr style=\"text-align: right;\">\n",
       "      <th></th>\n",
       "      <th>patient_id</th>\n",
       "      <th>laterality</th>\n",
       "      <th>CC</th>\n",
       "      <th>MLO</th>\n",
       "      <th>image</th>\n",
       "      <th>view</th>\n",
       "      <th>fold</th>\n",
       "      <th>text</th>\n",
       "      <th>patient_id_laterality</th>\n",
       "    </tr>\n",
       "  </thead>\n",
       "  <tbody>\n",
       "    <tr>\n",
       "      <th>0</th>\n",
       "      <td>25</td>\n",
       "      <td>L</td>\n",
       "      <td>[1789648218]</td>\n",
       "      <td>[1442180348]</td>\n",
       "      <td>[1442180348, 1789648218]</td>\n",
       "      <td>[MLO, CC]</td>\n",
       "      <td>1</td>\n",
       "      <td>[Procedure Reported:  Digital mammography, bot...</td>\n",
       "      <td>25_L</td>\n",
       "    </tr>\n",
       "    <tr>\n",
       "      <th>1</th>\n",
       "      <td>25</td>\n",
       "      <td>R</td>\n",
       "      <td>[822390278, 1997933901]</td>\n",
       "      <td>[1723979573, 1962456803]</td>\n",
       "      <td>[822390278, 1723979573, 1962456803, 1997933901]</td>\n",
       "      <td>[CC, MLO, MLO, CC]</td>\n",
       "      <td>1</td>\n",
       "      <td>[Procedure Reported:  Digital mammography, bot...</td>\n",
       "      <td>25_R</td>\n",
       "    </tr>\n",
       "    <tr>\n",
       "      <th>2</th>\n",
       "      <td>28</td>\n",
       "      <td>L</td>\n",
       "      <td>[825270681]</td>\n",
       "      <td>[1113093954]</td>\n",
       "      <td>[825270681, 1113093954]</td>\n",
       "      <td>[CC, MLO]</td>\n",
       "      <td>3</td>\n",
       "      <td>[Procedure Reported:  Digital mammography, bot...</td>\n",
       "      <td>28_L</td>\n",
       "    </tr>\n",
       "    <tr>\n",
       "      <th>3</th>\n",
       "      <td>33</td>\n",
       "      <td>L</td>\n",
       "      <td>[995020214]</td>\n",
       "      <td>[2057464302]</td>\n",
       "      <td>[995020214, 2057464302]</td>\n",
       "      <td>[CC, MLO]</td>\n",
       "      <td>1</td>\n",
       "      <td>[Procedure Reported:  Digital mammography, bot...</td>\n",
       "      <td>33_L</td>\n",
       "    </tr>\n",
       "    <tr>\n",
       "      <th>4</th>\n",
       "      <td>33</td>\n",
       "      <td>R</td>\n",
       "      <td>[567858385, 1863578666]</td>\n",
       "      <td>[1579089732]</td>\n",
       "      <td>[567858385, 1579089732, 1863578666]</td>\n",
       "      <td>[CC, MLO, CC]</td>\n",
       "      <td>1</td>\n",
       "      <td>[Procedure Reported:  Digital mammography, bot...</td>\n",
       "      <td>33_R</td>\n",
       "    </tr>\n",
       "  </tbody>\n",
       "</table>\n",
       "</div>"
      ],
      "text/plain": [
       "   patient_id laterality                       CC                       MLO  \\\n",
       "0          25          L             [1789648218]              [1442180348]   \n",
       "1          25          R  [822390278, 1997933901]  [1723979573, 1962456803]   \n",
       "2          28          L              [825270681]              [1113093954]   \n",
       "3          33          L              [995020214]              [2057464302]   \n",
       "4          33          R  [567858385, 1863578666]              [1579089732]   \n",
       "\n",
       "                                             image                view  fold  \\\n",
       "0                         [1442180348, 1789648218]           [MLO, CC]     1   \n",
       "1  [822390278, 1723979573, 1962456803, 1997933901]  [CC, MLO, MLO, CC]     1   \n",
       "2                          [825270681, 1113093954]           [CC, MLO]     3   \n",
       "3                          [995020214, 2057464302]           [CC, MLO]     1   \n",
       "4              [567858385, 1579089732, 1863578666]       [CC, MLO, CC]     1   \n",
       "\n",
       "                                                text patient_id_laterality  \n",
       "0  [Procedure Reported:  Digital mammography, bot...                  25_L  \n",
       "1  [Procedure Reported:  Digital mammography, bot...                  25_R  \n",
       "2  [Procedure Reported:  Digital mammography, bot...                  28_L  \n",
       "3  [Procedure Reported:  Digital mammography, bot...                  33_L  \n",
       "4  [Procedure Reported:  Digital mammography, bot...                  33_R  "
      ]
     },
     "execution_count": 20,
     "metadata": {},
     "output_type": "execute_result"
    }
   ],
   "source": [
    "new_df.rename(columns={\n",
    "    'image_ids': 'image', \n",
    "    'cc_image_paths': 'CC',\n",
    "    'mlo_image_paths': 'MLO',\n",
    "    'views': 'view',\n",
    "}, inplace=True)\n",
    "\n",
    "# Display the first few rows to verify the column name changes\n",
    "new_df['patient_id_laterality'] = new_df['patient_id'].astype(str) + '_' + new_df['laterality']\n",
    "new_df.head(5)\n"
   ]
  },
  {
   "cell_type": "code",
   "execution_count": 21,
   "metadata": {},
   "outputs": [],
   "source": [
    "df_final = new_df\n",
    "# Convert the string representations of the lists into actual lists\n",
    "df_final['view'] = df_final['view'].apply(lambda x: ast.literal_eval(x) if isinstance(x, str) else x)\n",
    "df_final['image'] = df_final['image'].apply(lambda x: ast.literal_eval(x) if isinstance(x, str) else x)\n",
    "\n",
    "# Define a function to reorder based on 'CC' and 'MLO' sequence and adjust other columns accordingly\n",
    "def reorder_sequence(row):\n",
    "    # Create a mapping of view to index\n",
    "    view_index_map = {'CC': 0, 'MLO': 1}\n",
    "    # Initialize the new order for views and related columns\n",
    "    new_order = ['CC', 'MLO']\n",
    "    new_image = [None, None]\n",
    "\n",
    "    # Go through the existing views and place the items in the correct order\n",
    "    for i, view in enumerate(row['view']):\n",
    "        index = view_index_map.get(view)\n",
    "        if index is not None:\n",
    "            new_image[index] = row['image'][i]\n",
    "\n",
    "    # Assign the reordered lists back to the row\n",
    "    row['view'] = new_order\n",
    "    row['image'] = new_image\n",
    "\n",
    "    return row\n",
    "\n",
    "# Apply the reordering function to each row\n",
    "df_final = df_final.apply(reorder_sequence, axis=1)\n"
   ]
  },
  {
   "cell_type": "code",
   "execution_count": 22,
   "metadata": {},
   "outputs": [
    {
     "data": {
      "text/html": [
       "<div>\n",
       "<style scoped>\n",
       "    .dataframe tbody tr th:only-of-type {\n",
       "        vertical-align: middle;\n",
       "    }\n",
       "\n",
       "    .dataframe tbody tr th {\n",
       "        vertical-align: top;\n",
       "    }\n",
       "\n",
       "    .dataframe thead th {\n",
       "        text-align: right;\n",
       "    }\n",
       "</style>\n",
       "<table border=\"1\" class=\"dataframe\">\n",
       "  <thead>\n",
       "    <tr style=\"text-align: right;\">\n",
       "      <th></th>\n",
       "      <th>patient_id</th>\n",
       "      <th>laterality</th>\n",
       "      <th>CC</th>\n",
       "      <th>MLO</th>\n",
       "      <th>image</th>\n",
       "      <th>view</th>\n",
       "      <th>fold</th>\n",
       "      <th>text</th>\n",
       "      <th>patient_id_laterality</th>\n",
       "    </tr>\n",
       "  </thead>\n",
       "  <tbody>\n",
       "    <tr>\n",
       "      <th>0</th>\n",
       "      <td>25</td>\n",
       "      <td>L</td>\n",
       "      <td>[1789648218]</td>\n",
       "      <td>[1442180348]</td>\n",
       "      <td>[1789648218, 1442180348]</td>\n",
       "      <td>[CC, MLO]</td>\n",
       "      <td>1</td>\n",
       "      <td>[Procedure Reported:  Digital mammography, bot...</td>\n",
       "      <td>25_L</td>\n",
       "    </tr>\n",
       "    <tr>\n",
       "      <th>1</th>\n",
       "      <td>25</td>\n",
       "      <td>R</td>\n",
       "      <td>[822390278, 1997933901]</td>\n",
       "      <td>[1723979573, 1962456803]</td>\n",
       "      <td>[1997933901, 1962456803]</td>\n",
       "      <td>[CC, MLO]</td>\n",
       "      <td>1</td>\n",
       "      <td>[Procedure Reported:  Digital mammography, bot...</td>\n",
       "      <td>25_R</td>\n",
       "    </tr>\n",
       "    <tr>\n",
       "      <th>2</th>\n",
       "      <td>28</td>\n",
       "      <td>L</td>\n",
       "      <td>[825270681]</td>\n",
       "      <td>[1113093954]</td>\n",
       "      <td>[825270681, 1113093954]</td>\n",
       "      <td>[CC, MLO]</td>\n",
       "      <td>3</td>\n",
       "      <td>[Procedure Reported:  Digital mammography, bot...</td>\n",
       "      <td>28_L</td>\n",
       "    </tr>\n",
       "    <tr>\n",
       "      <th>3</th>\n",
       "      <td>33</td>\n",
       "      <td>L</td>\n",
       "      <td>[995020214]</td>\n",
       "      <td>[2057464302]</td>\n",
       "      <td>[995020214, 2057464302]</td>\n",
       "      <td>[CC, MLO]</td>\n",
       "      <td>1</td>\n",
       "      <td>[Procedure Reported:  Digital mammography, bot...</td>\n",
       "      <td>33_L</td>\n",
       "    </tr>\n",
       "    <tr>\n",
       "      <th>4</th>\n",
       "      <td>33</td>\n",
       "      <td>R</td>\n",
       "      <td>[567858385, 1863578666]</td>\n",
       "      <td>[1579089732]</td>\n",
       "      <td>[1863578666, 1579089732]</td>\n",
       "      <td>[CC, MLO]</td>\n",
       "      <td>1</td>\n",
       "      <td>[Procedure Reported:  Digital mammography, bot...</td>\n",
       "      <td>33_R</td>\n",
       "    </tr>\n",
       "    <tr>\n",
       "      <th>...</th>\n",
       "      <td>...</td>\n",
       "      <td>...</td>\n",
       "      <td>...</td>\n",
       "      <td>...</td>\n",
       "      <td>...</td>\n",
       "      <td>...</td>\n",
       "      <td>...</td>\n",
       "      <td>...</td>\n",
       "      <td>...</td>\n",
       "    </tr>\n",
       "    <tr>\n",
       "      <th>9316</th>\n",
       "      <td>65495</td>\n",
       "      <td>L</td>\n",
       "      <td>[1435151627]</td>\n",
       "      <td>[161429092]</td>\n",
       "      <td>[1435151627, 161429092]</td>\n",
       "      <td>[CC, MLO]</td>\n",
       "      <td>1</td>\n",
       "      <td>[Procedure Reported:  Digital mammography, bot...</td>\n",
       "      <td>65495_L</td>\n",
       "    </tr>\n",
       "    <tr>\n",
       "      <th>9317</th>\n",
       "      <td>65495</td>\n",
       "      <td>R</td>\n",
       "      <td>[474938164]</td>\n",
       "      <td>[179786992]</td>\n",
       "      <td>[474938164, 179786992]</td>\n",
       "      <td>[CC, MLO]</td>\n",
       "      <td>1</td>\n",
       "      <td>[Procedure Reported:  Digital mammography, bot...</td>\n",
       "      <td>65495_R</td>\n",
       "    </tr>\n",
       "    <tr>\n",
       "      <th>9318</th>\n",
       "      <td>65530</td>\n",
       "      <td>R</td>\n",
       "      <td>[1039644878]</td>\n",
       "      <td>[675828643, 1401303823]</td>\n",
       "      <td>[1039644878, 1401303823]</td>\n",
       "      <td>[CC, MLO]</td>\n",
       "      <td>3</td>\n",
       "      <td>[Procedure Reported:  Digital mammography, bot...</td>\n",
       "      <td>65530_R</td>\n",
       "    </tr>\n",
       "    <tr>\n",
       "      <th>9319</th>\n",
       "      <td>65534</td>\n",
       "      <td>L</td>\n",
       "      <td>[1436834199]</td>\n",
       "      <td>[1888933323]</td>\n",
       "      <td>[1436834199, 1888933323]</td>\n",
       "      <td>[CC, MLO]</td>\n",
       "      <td>0</td>\n",
       "      <td>[Procedure Reported:  Digital mammography, bot...</td>\n",
       "      <td>65534_L</td>\n",
       "    </tr>\n",
       "    <tr>\n",
       "      <th>9320</th>\n",
       "      <td>65534</td>\n",
       "      <td>R</td>\n",
       "      <td>[1174089649]</td>\n",
       "      <td>[44480502]</td>\n",
       "      <td>[1174089649, 44480502]</td>\n",
       "      <td>[CC, MLO]</td>\n",
       "      <td>0</td>\n",
       "      <td>[Procedure Reported:  Digital mammography, bot...</td>\n",
       "      <td>65534_R</td>\n",
       "    </tr>\n",
       "  </tbody>\n",
       "</table>\n",
       "<p>9321 rows × 9 columns</p>\n",
       "</div>"
      ],
      "text/plain": [
       "      patient_id laterality                       CC  \\\n",
       "0             25          L             [1789648218]   \n",
       "1             25          R  [822390278, 1997933901]   \n",
       "2             28          L              [825270681]   \n",
       "3             33          L              [995020214]   \n",
       "4             33          R  [567858385, 1863578666]   \n",
       "...          ...        ...                      ...   \n",
       "9316       65495          L             [1435151627]   \n",
       "9317       65495          R              [474938164]   \n",
       "9318       65530          R             [1039644878]   \n",
       "9319       65534          L             [1436834199]   \n",
       "9320       65534          R             [1174089649]   \n",
       "\n",
       "                           MLO                     image       view  fold  \\\n",
       "0                 [1442180348]  [1789648218, 1442180348]  [CC, MLO]     1   \n",
       "1     [1723979573, 1962456803]  [1997933901, 1962456803]  [CC, MLO]     1   \n",
       "2                 [1113093954]   [825270681, 1113093954]  [CC, MLO]     3   \n",
       "3                 [2057464302]   [995020214, 2057464302]  [CC, MLO]     1   \n",
       "4                 [1579089732]  [1863578666, 1579089732]  [CC, MLO]     1   \n",
       "...                        ...                       ...        ...   ...   \n",
       "9316               [161429092]   [1435151627, 161429092]  [CC, MLO]     1   \n",
       "9317               [179786992]    [474938164, 179786992]  [CC, MLO]     1   \n",
       "9318   [675828643, 1401303823]  [1039644878, 1401303823]  [CC, MLO]     3   \n",
       "9319              [1888933323]  [1436834199, 1888933323]  [CC, MLO]     0   \n",
       "9320                [44480502]    [1174089649, 44480502]  [CC, MLO]     0   \n",
       "\n",
       "                                                   text patient_id_laterality  \n",
       "0     [Procedure Reported:  Digital mammography, bot...                  25_L  \n",
       "1     [Procedure Reported:  Digital mammography, bot...                  25_R  \n",
       "2     [Procedure Reported:  Digital mammography, bot...                  28_L  \n",
       "3     [Procedure Reported:  Digital mammography, bot...                  33_L  \n",
       "4     [Procedure Reported:  Digital mammography, bot...                  33_R  \n",
       "...                                                 ...                   ...  \n",
       "9316  [Procedure Reported:  Digital mammography, bot...               65495_L  \n",
       "9317  [Procedure Reported:  Digital mammography, bot...               65495_R  \n",
       "9318  [Procedure Reported:  Digital mammography, bot...               65530_R  \n",
       "9319  [Procedure Reported:  Digital mammography, bot...               65534_L  \n",
       "9320  [Procedure Reported:  Digital mammography, bot...               65534_R  \n",
       "\n",
       "[9321 rows x 9 columns]"
      ]
     },
     "execution_count": 22,
     "metadata": {},
     "output_type": "execute_result"
    }
   ],
   "source": [
    "df_final"
   ]
  },
  {
   "cell_type": "code",
   "execution_count": 23,
   "metadata": {},
   "outputs": [
    {
     "data": {
      "text/plain": [
       "(9321, 9)"
      ]
     },
     "execution_count": 23,
     "metadata": {},
     "output_type": "execute_result"
    }
   ],
   "source": [
    "df_final.shape"
   ]
  },
  {
   "cell_type": "code",
   "execution_count": null,
   "metadata": {},
   "outputs": [],
   "source": [
    "df_final.to_csv('/mnt/storage/Devam/mammo-clip-github/Mammo-CLIP/src/codebase/data_csv/train_folds_final_1.csv', index=False)"
   ]
  },
  {
   "cell_type": "code",
   "execution_count": 21,
   "metadata": {},
   "outputs": [],
   "source": [
    "df_final = pd.read_csv('/mnt/storage/Devam/mammo-clip-github/Mammo-CLIP/src/codebase/data_csv/train_folds_final_1.csv')"
   ]
  },
  {
   "cell_type": "code",
   "execution_count": 23,
   "metadata": {},
   "outputs": [
    {
     "data": {
      "text/html": [
       "<div>\n",
       "<style scoped>\n",
       "    .dataframe tbody tr th:only-of-type {\n",
       "        vertical-align: middle;\n",
       "    }\n",
       "\n",
       "    .dataframe tbody tr th {\n",
       "        vertical-align: top;\n",
       "    }\n",
       "\n",
       "    .dataframe thead th {\n",
       "        text-align: right;\n",
       "    }\n",
       "</style>\n",
       "<table border=\"1\" class=\"dataframe\">\n",
       "  <thead>\n",
       "    <tr style=\"text-align: right;\">\n",
       "      <th></th>\n",
       "      <th>patient_id</th>\n",
       "      <th>fold</th>\n",
       "    </tr>\n",
       "  </thead>\n",
       "  <tbody>\n",
       "    <tr>\n",
       "      <th>count</th>\n",
       "      <td>9321.000000</td>\n",
       "      <td>9321.000000</td>\n",
       "    </tr>\n",
       "    <tr>\n",
       "      <th>mean</th>\n",
       "      <td>32744.740371</td>\n",
       "      <td>1.496084</td>\n",
       "    </tr>\n",
       "    <tr>\n",
       "      <th>std</th>\n",
       "      <td>18871.569839</td>\n",
       "      <td>1.117559</td>\n",
       "    </tr>\n",
       "    <tr>\n",
       "      <th>min</th>\n",
       "      <td>25.000000</td>\n",
       "      <td>0.000000</td>\n",
       "    </tr>\n",
       "    <tr>\n",
       "      <th>25%</th>\n",
       "      <td>16735.000000</td>\n",
       "      <td>0.000000</td>\n",
       "    </tr>\n",
       "    <tr>\n",
       "      <th>50%</th>\n",
       "      <td>32329.000000</td>\n",
       "      <td>1.000000</td>\n",
       "    </tr>\n",
       "    <tr>\n",
       "      <th>75%</th>\n",
       "      <td>49102.000000</td>\n",
       "      <td>2.000000</td>\n",
       "    </tr>\n",
       "    <tr>\n",
       "      <th>max</th>\n",
       "      <td>65534.000000</td>\n",
       "      <td>3.000000</td>\n",
       "    </tr>\n",
       "  </tbody>\n",
       "</table>\n",
       "</div>"
      ],
      "text/plain": [
       "         patient_id         fold\n",
       "count   9321.000000  9321.000000\n",
       "mean   32744.740371     1.496084\n",
       "std    18871.569839     1.117559\n",
       "min       25.000000     0.000000\n",
       "25%    16735.000000     0.000000\n",
       "50%    32329.000000     1.000000\n",
       "75%    49102.000000     2.000000\n",
       "max    65534.000000     3.000000"
      ]
     },
     "execution_count": 23,
     "metadata": {},
     "output_type": "execute_result"
    }
   ],
   "source": [
    "df_final.describe()"
   ]
  },
  {
   "cell_type": "code",
   "execution_count": 25,
   "metadata": {},
   "outputs": [
    {
     "data": {
      "text/html": [
       "<div>\n",
       "<style scoped>\n",
       "    .dataframe tbody tr th:only-of-type {\n",
       "        vertical-align: middle;\n",
       "    }\n",
       "\n",
       "    .dataframe tbody tr th {\n",
       "        vertical-align: top;\n",
       "    }\n",
       "\n",
       "    .dataframe thead th {\n",
       "        text-align: right;\n",
       "    }\n",
       "</style>\n",
       "<table border=\"1\" class=\"dataframe\">\n",
       "  <thead>\n",
       "    <tr style=\"text-align: right;\">\n",
       "      <th></th>\n",
       "      <th>patient_id</th>\n",
       "      <th>laterality</th>\n",
       "      <th>CC</th>\n",
       "      <th>MLO</th>\n",
       "      <th>image</th>\n",
       "      <th>view</th>\n",
       "      <th>fold</th>\n",
       "      <th>text</th>\n",
       "      <th>patient_id_laterality</th>\n",
       "    </tr>\n",
       "  </thead>\n",
       "  <tbody>\n",
       "    <tr>\n",
       "      <th>0</th>\n",
       "      <td>25</td>\n",
       "      <td>L</td>\n",
       "      <td>[1789648218]</td>\n",
       "      <td>[1442180348]</td>\n",
       "      <td>[1789648218, 1442180348]</td>\n",
       "      <td>['CC', 'MLO']</td>\n",
       "      <td>1</td>\n",
       "      <td>['Procedure Reported:  Digital mammography, bo...</td>\n",
       "      <td>25_L</td>\n",
       "    </tr>\n",
       "    <tr>\n",
       "      <th>1</th>\n",
       "      <td>25</td>\n",
       "      <td>R</td>\n",
       "      <td>[822390278, 1997933901]</td>\n",
       "      <td>[1723979573, 1962456803]</td>\n",
       "      <td>[1997933901, 1962456803]</td>\n",
       "      <td>['CC', 'MLO']</td>\n",
       "      <td>1</td>\n",
       "      <td>['Procedure Reported:  Digital mammography, bo...</td>\n",
       "      <td>25_R</td>\n",
       "    </tr>\n",
       "    <tr>\n",
       "      <th>2</th>\n",
       "      <td>28</td>\n",
       "      <td>L</td>\n",
       "      <td>[825270681]</td>\n",
       "      <td>[1113093954]</td>\n",
       "      <td>[825270681, 1113093954]</td>\n",
       "      <td>['CC', 'MLO']</td>\n",
       "      <td>3</td>\n",
       "      <td>['Procedure Reported:  Digital mammography, bo...</td>\n",
       "      <td>28_L</td>\n",
       "    </tr>\n",
       "    <tr>\n",
       "      <th>3</th>\n",
       "      <td>33</td>\n",
       "      <td>L</td>\n",
       "      <td>[995020214]</td>\n",
       "      <td>[2057464302]</td>\n",
       "      <td>[995020214, 2057464302]</td>\n",
       "      <td>['CC', 'MLO']</td>\n",
       "      <td>1</td>\n",
       "      <td>['Procedure Reported:  Digital mammography, bo...</td>\n",
       "      <td>33_L</td>\n",
       "    </tr>\n",
       "    <tr>\n",
       "      <th>4</th>\n",
       "      <td>33</td>\n",
       "      <td>R</td>\n",
       "      <td>[567858385, 1863578666]</td>\n",
       "      <td>[1579089732]</td>\n",
       "      <td>[1863578666, 1579089732]</td>\n",
       "      <td>['CC', 'MLO']</td>\n",
       "      <td>1</td>\n",
       "      <td>['Procedure Reported:  Digital mammography, bo...</td>\n",
       "      <td>33_R</td>\n",
       "    </tr>\n",
       "  </tbody>\n",
       "</table>\n",
       "</div>"
      ],
      "text/plain": [
       "   patient_id laterality                       CC                       MLO  \\\n",
       "0          25          L             [1789648218]              [1442180348]   \n",
       "1          25          R  [822390278, 1997933901]  [1723979573, 1962456803]   \n",
       "2          28          L              [825270681]              [1113093954]   \n",
       "3          33          L              [995020214]              [2057464302]   \n",
       "4          33          R  [567858385, 1863578666]              [1579089732]   \n",
       "\n",
       "                      image           view  fold  \\\n",
       "0  [1789648218, 1442180348]  ['CC', 'MLO']     1   \n",
       "1  [1997933901, 1962456803]  ['CC', 'MLO']     1   \n",
       "2   [825270681, 1113093954]  ['CC', 'MLO']     3   \n",
       "3   [995020214, 2057464302]  ['CC', 'MLO']     1   \n",
       "4  [1863578666, 1579089732]  ['CC', 'MLO']     1   \n",
       "\n",
       "                                                text patient_id_laterality  \n",
       "0  ['Procedure Reported:  Digital mammography, bo...                  25_L  \n",
       "1  ['Procedure Reported:  Digital mammography, bo...                  25_R  \n",
       "2  ['Procedure Reported:  Digital mammography, bo...                  28_L  \n",
       "3  ['Procedure Reported:  Digital mammography, bo...                  33_L  \n",
       "4  ['Procedure Reported:  Digital mammography, bo...                  33_R  "
      ]
     },
     "execution_count": 25,
     "metadata": {},
     "output_type": "execute_result"
    }
   ],
   "source": [
    "df_final.head(5)"
   ]
  },
  {
   "cell_type": "markdown",
   "metadata": {},
   "source": [
    "## BIRADs template for RSNA"
   ]
  },
  {
   "cell_type": "markdown",
   "metadata": {},
   "source": [
    "BI-RADS Assessment Descriptions and Follow-Up Recommendations\n",
    "BI-RADS 0: Need Additional Imaging Evaluation. Follow-up imaging is recommended to clarify or confirm the findings.\n",
    "BI-RADS 1: Negative. Routine screening recommended.\n",
    "BI-RADS 2: Benign Findings. Routine screening recommended."
   ]
  },
  {
   "cell_type": "markdown",
   "metadata": {},
   "source": [
    "Procedure Reported:\n",
    "Digital mammography, both breasts. Laterality: L, View: CC.\n",
    "Findings:\n",
    "Breast Density: {density} (Note: A - least dense, D - most dense. Dense breast tissue can make mammography more challenging.)\n",
    "Cancer Presence: {cancer} (Note: '0' indicates no cancer detected, '1' indicates cancer detected.)\n",
    "Biopsy Performed: {biopsy} (Note: '0' indicates no biopsy performed, '1' indicates biopsy performed.)\n",
    "Invasive Cancer: {invasive} (Note: Applicable if cancer is present. '0' indicates non-invasive, '1' indicates invasive cancer.)\n",
    "Difficult Negative Case: {difficult_negative_case} (Note: 'False' indicates a standard case, 'True' indicates a difficult negative case.)\n",
    "\n",
    "BI-RADS Assessment:\n",
    "- Category {BIRADS}: {BIRADS_Assessment_Description}"
   ]
  },
  {
   "cell_type": "code",
   "execution_count": 4,
   "metadata": {},
   "outputs": [],
   "source": [
    "def generate_description(row):\n",
    "    density_mapping = {\n",
    "        'A': 'Almost entirely fatty: The breasts are composed of mostly fatty tissue.',\n",
    "        'B': 'Scattered fibroglandular densities: There are scattered areas of dense fibroglandular tissue.',\n",
    "        'C': 'Heterogeneously dense: The breasts have heterogeneously dense tissue, which may obscure small masses.',\n",
    "        'D': 'Extremely dense: The breasts are extremely dense, which may lower the sensitivity of mammography.'\n",
    "    }\n",
    "    BIRADS = row['BIRADS']\n",
    "    BIRADS_Assessment_Description = {\n",
    "        0: 'Incomplete: Need additional imaging evaluation.',\n",
    "        1: 'Negative: No mammographic evidence of malignancy.',\n",
    "        2: 'Benign: No mammographic evidence of malignancy.',\n",
    "        3: 'Probably benign: <2% risk of malignancy.',\n",
    "        4: 'Suspicious: 2-94% risk of malignancy.',\n",
    "        5: 'Highly suggestive of malignancy: >95% risk of malignancy.',\n",
    "        6: 'Known biopsy-proven malignancy.'\n",
    "    }.get(BIRADS, '[Not provided]')\n",
    "    cancer = 'Cancer present' if row['cancer'] == 1 else 'No cancer present'\n",
    "    biopsy = 'Biopsy performed' if row['biopsy'] == 1 else 'No biopsy performed'\n",
    "    invasive = 'Invasive cancer' if row['invasive'] == 1 else 'Non-invasive cancer'\n",
    "    density_description = density_mapping.get(row['density'], '[Not provided]')\n",
    "    difficult_negative_case = 'A difficult negative case' if row['difficult_negative_case'] == 1 else ''\n",
    "    \n",
    "    # Fill None values with a specified value\n",
    "    laterality = row['laterality'] if row['laterality'] is not None else '[Not provided]'\n",
    "    view = row['view'] if row['view'] is not None else '[Not provided]'\n",
    "    age = row['age'] if row['age'] is not None else '[Not provided]'\n",
    "    \n",
    "    report =f\"\"\"Procedure Reported: \\nDigital mammography, both breasts. Laterality: {laterality}, View: {view} .\\n\n",
    "Breast Composition: {density_description} \\n\n",
    "Imression:\n",
    "{cancer} \n",
    "{biopsy} \n",
    "{invasive}\n",
    "{difficult_negative_case}\n",
    "BI-RADS Assessment:\n",
    "- Category {BIRADS}: {BIRADS_Assessment_Description} \"\"\"\n",
    "    return report\n"
   ]
  },
  {
   "cell_type": "code",
   "execution_count": 5,
   "metadata": {},
   "outputs": [
    {
     "data": {
      "text/html": [
       "<div>\n",
       "<style scoped>\n",
       "    .dataframe tbody tr th:only-of-type {\n",
       "        vertical-align: middle;\n",
       "    }\n",
       "\n",
       "    .dataframe tbody tr th {\n",
       "        vertical-align: top;\n",
       "    }\n",
       "\n",
       "    .dataframe thead th {\n",
       "        text-align: right;\n",
       "    }\n",
       "</style>\n",
       "<table border=\"1\" class=\"dataframe\">\n",
       "  <thead>\n",
       "    <tr style=\"text-align: right;\">\n",
       "      <th></th>\n",
       "      <th>site_id</th>\n",
       "      <th>patient_id</th>\n",
       "      <th>image_id</th>\n",
       "      <th>laterality</th>\n",
       "      <th>view</th>\n",
       "      <th>age</th>\n",
       "      <th>cancer</th>\n",
       "      <th>biopsy</th>\n",
       "      <th>invasive</th>\n",
       "      <th>BIRADS</th>\n",
       "      <th>implant</th>\n",
       "      <th>density</th>\n",
       "      <th>machine_id</th>\n",
       "      <th>difficult_negative_case</th>\n",
       "      <th>fold</th>\n",
       "    </tr>\n",
       "  </thead>\n",
       "  <tbody>\n",
       "    <tr>\n",
       "      <th>17314</th>\n",
       "      <td>2</td>\n",
       "      <td>28321</td>\n",
       "      <td>2038934866</td>\n",
       "      <td>L</td>\n",
       "      <td>CC</td>\n",
       "      <td>51.0</td>\n",
       "      <td>0</td>\n",
       "      <td>0</td>\n",
       "      <td>0</td>\n",
       "      <td>NaN</td>\n",
       "      <td>0</td>\n",
       "      <td>NaN</td>\n",
       "      <td>29</td>\n",
       "      <td>False</td>\n",
       "      <td>3</td>\n",
       "    </tr>\n",
       "    <tr>\n",
       "      <th>33065</th>\n",
       "      <td>2</td>\n",
       "      <td>454</td>\n",
       "      <td>1185839362</td>\n",
       "      <td>L</td>\n",
       "      <td>MLO</td>\n",
       "      <td>50.0</td>\n",
       "      <td>0</td>\n",
       "      <td>0</td>\n",
       "      <td>0</td>\n",
       "      <td>NaN</td>\n",
       "      <td>0</td>\n",
       "      <td>NaN</td>\n",
       "      <td>29</td>\n",
       "      <td>False</td>\n",
       "      <td>2</td>\n",
       "    </tr>\n",
       "    <tr>\n",
       "      <th>51718</th>\n",
       "      <td>1</td>\n",
       "      <td>6775</td>\n",
       "      <td>561367594</td>\n",
       "      <td>R</td>\n",
       "      <td>CC</td>\n",
       "      <td>60.0</td>\n",
       "      <td>0</td>\n",
       "      <td>0</td>\n",
       "      <td>0</td>\n",
       "      <td>1.0</td>\n",
       "      <td>0</td>\n",
       "      <td>A</td>\n",
       "      <td>49</td>\n",
       "      <td>False</td>\n",
       "      <td>3</td>\n",
       "    </tr>\n",
       "  </tbody>\n",
       "</table>\n",
       "</div>"
      ],
      "text/plain": [
       "       site_id  patient_id    image_id laterality view   age  cancer  biopsy  \\\n",
       "17314        2       28321  2038934866          L   CC  51.0       0       0   \n",
       "33065        2         454  1185839362          L  MLO  50.0       0       0   \n",
       "51718        1        6775   561367594          R   CC  60.0       0       0   \n",
       "\n",
       "       invasive  BIRADS  implant density  machine_id  difficult_negative_case  \\\n",
       "17314         0     NaN        0     NaN          29                    False   \n",
       "33065         0     NaN        0     NaN          29                    False   \n",
       "51718         0     1.0        0       A          49                    False   \n",
       "\n",
       "       fold  \n",
       "17314     3  \n",
       "33065     2  \n",
       "51718     3  "
      ]
     },
     "execution_count": 5,
     "metadata": {},
     "output_type": "execute_result"
    }
   ],
   "source": [
    "df.sample(3)"
   ]
  },
  {
   "cell_type": "code",
   "execution_count": 6,
   "metadata": {},
   "outputs": [
    {
     "name": "stdout",
     "output_type": "stream",
     "text": [
      "Procedure Reported: \n",
      "Digital mammography, both breasts. Laterality: R, View: CC .\n",
      "\n",
      "Breast Composition: Heterogeneously dense: The breasts have heterogeneously dense tissue, which may obscure small masses. \n",
      "\n",
      "Findings:\n",
      "No cancer present \n",
      "No biopsy performed \n",
      "Non-invasive cancer\n",
      "\n",
      "BI-RADS Assessment:\n",
      "- Category 1.0: Negative: No mammographic evidence of malignancy. \n"
     ]
    }
   ],
   "source": [
    "df_sample = df_filtered.sample(3)  # Select the first 5 rows as a sample\n",
    "descriptions = df_sample.apply(generate_description, axis=1)\n",
    "print(list(descriptions)[1])"
   ]
  },
  {
   "cell_type": "markdown",
   "metadata": {},
   "source": [
    "## Check if Imagetext dataset works with RSNA "
   ]
  },
  {
   "cell_type": "code",
   "execution_count": 2,
   "metadata": {},
   "outputs": [
    {
     "name": "stdout",
     "output_type": "stream",
     "text": [
      "/mnt/storage/Devam/mammo-clip-github/Mammo-CLIP/src/codebase\n"
     ]
    },
    {
     "name": "stderr",
     "output_type": "stream",
     "text": [
      "INFO:albumentations.check_version:A new version of Albumentations is available: 1.4.11 (you have 1.4.7). Upgrade using: pip install --upgrade albumentations\n",
      "/home/devam/miniconda3/envs/Mammo-CLIP/lib/python3.8/site-packages/tqdm/auto.py:21: TqdmWarning: IProgress not found. Please update jupyter and ipywidgets. See https://ipywidgets.readthedocs.io/en/stable/user_install.html\n",
      "  from .autonotebook import tqdm as notebook_tqdm\n"
     ]
    }
   ],
   "source": [
    "%cd '../mammo-clip-github/Mammo-CLIP/src/codebase/'\n",
    "from breastclip.data.datasets import ImageTextDataset"
   ]
  },
  {
   "cell_type": "code",
   "execution_count": null,
   "metadata": {},
   "outputs": [],
   "source": [
    " valid_dataset = load_dataset(\n",
    "                df=valid_df,\n",
    "                split=\"valid\",\n",
    "                dataset=data_config[dataset][\"name\"],\n",
    "                data_dir=data_config[dataset][\"data_dir\"],\n",
    "                image_dir=data_config[dataset][\"img_dir\"],\n",
    "                data_type=data_config[dataset][\"data_type\"],\n",
    "                tokenizer=self.tokenizer,\n",
    "                transform_config=transform_config,\n",
    "                loss_config=self.loss_config,\n",
    "                text_max_length=data_config[dataset][\"text_max_length\"],\n",
    "                mean=mean,\n",
    "                std=std,\n",
    "                image_encoder_type=self.image_encoder_type,\n",
    "                label_col=data_config[dataset][\"label_col\"] if \"label_col\" in data_config[dataset] else None,\n",
    "                label_text=data_config[dataset][\"label_text\"] if \"label_text\" in data_config[dataset] else None,\n",
    "            )"
   ]
  },
  {
   "cell_type": "code",
   "execution_count": null,
   "metadata": {},
   "outputs": [],
   "source": [
    "from omegaconf import DictConfig, OmegaConf\n",
    "import hydra\n",
    "# @hydra.main(version_base=None, config_path=\"configs\", config_name=\"train_vit_vindr\")\n",
    "\n",
    "# cfg = hydra.main(config_path=\"/mnt/storage/Devam/mammo-clip-github/Mammo-CLIP/src/codebase/configs/pre_train_b2_clip.yaml\")(lambda x: x)()\n",
    "# cfg = \"/mnt/storage/Devam/mammo-clip-github/Mammo-CLIP/src/codebase/configs/pre_train_b2_clip.yaml\"\n",
    "OmegaConf.resolve(cfg)"
   ]
  },
  {
   "cell_type": "code",
   "execution_count": null,
   "metadata": {},
   "outputs": [],
   "source": [
    "from hydra.core.hydra_config import HydraConfig\n",
    "HydraConfig.instance().set_config(cfg)"
   ]
  },
  {
   "cell_type": "code",
   "execution_count": null,
   "metadata": {},
   "outputs": [],
   "source": [
    "from hydra import initialize, initialize_config_module, initialize_config_dir, compose\n",
    "from breastclip import convert_dictconfig_to_dict\n",
    "with initialize(version_base=None, config_path=\"../mammo-clip-github/Mammo-CLIP/src/codebase/configs\"):\n",
    "    cfg = compose(config_name=\"pre_train_b5_clip.yaml\")\n",
    "    print(cfg)\n",
    "\n",
    "# OmegaConf.to_yaml\n",
    "cfg = convert_dictconfig_to_dict(cfg)"
   ]
  },
  {
   "cell_type": "code",
   "execution_count": null,
   "metadata": {},
   "outputs": [],
   "source": [
    "python ./Mammo-CLIP/src/codebase/train.py --config-name pre_train_b5_clip.yaml"
   ]
  },
  {
   "cell_type": "markdown",
   "metadata": {},
   "source": [
    "### Debugging"
   ]
  },
  {
   "cell_type": "code",
   "execution_count": 2,
   "metadata": {},
   "outputs": [
    {
     "name": "stderr",
     "output_type": "stream",
     "text": [
      "/home/devam/miniconda3/envs/Mammo-CLIP/lib/python3.8/site-packages/tqdm/auto.py:21: TqdmWarning: IProgress not found. Please update jupyter and ipywidgets. See https://ipywidgets.readthedocs.io/en/stable/user_install.html\n",
      "  from .autonotebook import tqdm as notebook_tqdm\n"
     ]
    }
   ],
   "source": [
    "from transformers import AutoConfig, AutoModel, BertModel\n",
    "import os\n"
   ]
  },
  {
   "cell_type": "code",
   "execution_count": 8,
   "metadata": {},
   "outputs": [],
   "source": [
    "from transformers import AutoConfig, AutoModel, BertModel\n",
    "import os\n",
    "\n",
    "config_text_encoder = {\n",
    "    'source': 'huggingface',\n",
    "    'name': 'emilyalsentzer/Bio_ClinicalBERT',\n",
    "    'pretrained': True,\n",
    "    'gradient_checkpointing': False,\n",
    "    'pooling': 'eos',\n",
    "    'cache_dir': '/mnt/storage/Devam/mammo-clip-github/Mammo-CLIP/src/codebase/outputs/huggingface/',\n",
    "    'trust_remote_code': True,\n",
    "    'mlm_head': True\n",
    "}\n",
    "\n",
    "# AutoModel.from_pretrained(config_text_encoder['name'], cache_dir=config_text_encoder['cache_dir'])\n",
    "# "
   ]
  },
  {
   "cell_type": "code",
   "execution_count": 14,
   "metadata": {},
   "outputs": [
    {
     "data": {
      "text/plain": [
       "True"
      ]
     },
     "execution_count": 14,
     "metadata": {},
     "output_type": "execute_result"
    }
   ],
   "source": [
    "os.path.exists(os.path.join(config_text_encoder['cache_dir'], f'models--{config_text_encoder[\"name\"].replace(\"/\", \"--\")}'))"
   ]
  },
  {
   "cell_type": "code",
   "execution_count": null,
   "metadata": {},
   "outputs": [],
   "source": [
    "os.environ['TRANSFORMERS_CACHE']"
   ]
  },
  {
   "cell_type": "code",
   "execution_count": 15,
   "metadata": {},
   "outputs": [
    {
     "name": "stdout",
     "output_type": "stream",
     "text": [
      "Default cache directory: /home/devam/.cache/huggingface/hub\n"
     ]
    }
   ],
   "source": [
    "from transformers import AutoModel, AutoConfig, file_utils\n",
    "cache_dir = file_utils.default_cache_path\n",
    "print(f\"Default cache directory: {cache_dir}\")"
   ]
  },
  {
   "cell_type": "code",
   "execution_count": null,
   "metadata": {},
   "outputs": [],
   "source": [
    "\n",
    "\n",
    "\n",
    "\n",
    "text_encoder = AutoModel.from_pretrained(\n",
    "                config_text_encoder['name'],\n",
    "                # vocab_size=vocab_size,\n",
    "                ignore_mismatched_sizes=True,\n",
    "                cache_dir=config_text_encoder['cache_dir'],\n",
    "                local_files_only=os.path.exists(\n",
    "                os.path.join(config_text_encoder['cache_dir'], f'models--{config_text_encoder[\"name\"].replace(\"/\", \"--\")}'))\n",
    "                trust_remote_code=config_text_encoder['trust_remote_code'],\n",
    "            )"
   ]
  },
  {
   "cell_type": "markdown",
   "metadata": {},
   "source": [
    "### Linear probing"
   ]
  },
  {
   "cell_type": "markdown",
   "metadata": {},
   "source": [
    "imports"
   ]
  },
  {
   "cell_type": "code",
   "execution_count": 1,
   "metadata": {},
   "outputs": [],
   "source": [
    "import pandas as pd\n",
    "df = pd.read_csv('/mnt/storage/Devam/mammo-clip-github/Mammo-CLIP/src/codebase/data_csv/train_folds.csv')"
   ]
  },
  {
   "cell_type": "markdown",
   "metadata": {},
   "source": [
    "linear probe command with efficientnet b5 arch on BIRADS classification with RSNA dataset , batch size - 8 "
   ]
  },
  {
   "cell_type": "code",
   "execution_count": null,
   "metadata": {},
   "outputs": [],
   "source": [
    "python ./src/codebase/train_classifier.py \n",
    "  --tensorboard-path '/mnt/storage/Devam/mammo-clip-github/tensorboard_logs'\n",
    "  --checkpoints '/mnt/storage/Devam/mammo-clip-github/checkpoints'\n",
    "  --output_path '/mnt/storage/Devam/mammo-clip-github/output'\n",
    "  --data-dir '/mnt/storage/Devam/mammo-clip-github/image_preprocessing-aisha/' \n",
    "  --img-dir 'rsna-stitched-images-512-flipped'  \n",
    "  --csv-file 'train_folds_rsnalp_final.csv'\n",
    "  --clip_chk_pt_path \"/mnt/storage/Devam/mammo-clip-github/b5-model-best-epoch-7.tar\" \n",
    "  --data_frac 1.0 \n",
    "  --dataset 'RSNA' \n",
    "  --arch 'upmc_breast_clip_det_b5_period_n_lp' \n",
    "  --label \"BIRADS\" \n",
    "  --epochs 30 \n",
    "  --batch-size 128 \n",
    "  --num-workers 8 \n",
    "  --print-freq 10000 \n",
    "  --log-freq 500 \n",
    "  --running-interactive 'n'  \n",
    "  --n_folds 1 \n",
    "  --lr 5.0e-5 \n",
    "  --weighted-BCE 'y' \n",
    "  --balanced-dataloader 'n'"
   ]
  },
  {
   "cell_type": "code",
   "execution_count": 9,
   "metadata": {},
   "outputs": [
    {
     "data": {
      "text/plain": [
       "BIRADS\n",
       "1.0    11570\n",
       "0.0     8647\n",
       "Name: count, dtype: int64"
      ]
     },
     "execution_count": 9,
     "metadata": {},
     "output_type": "execute_result"
    }
   ],
   "source": [
    "import pandas as pd\n",
    "df = pd.read_csv('/mnt/storage/Devam/mammo-clip-github/image_preprocessing-aisha/new-splits-csvs-BIRADS/binary_train_folds_rsnalp_final.csv')\n",
    "df.BIRADS.value_counts()"
   ]
  },
  {
   "cell_type": "markdown",
   "metadata": {},
   "source": [
    "BIRADS BINARY"
   ]
  },
  {
   "cell_type": "code",
   "execution_count": null,
   "metadata": {},
   "outputs": [],
   "source": [
    "python ./src/codebase/train_classifier.py \n",
    "  --tensorboard-path '/mnt/storage/Devam/mammo-clip-github/tensorboard_logs'\n",
    "  --checkpoints '/mnt/storage/Devam/mammo-clip-github/checkpoints'\n",
    "  --output_path '/mnt/storage/Devam/mammo-clip-github/output'\n",
    "  --data-dir '/mnt/storage/Devam/mammo-clip-github/image_preprocessing-aisha/' \n",
    "  --img-dir 'rsna-stitched-images-512-flipped'  \n",
    "  --csv-file 'new-splits-csvs-BIRADS/binary_train_folds_rsnalp_final.csv'\n",
    "  --clip_chk_pt_path \"/mnt/storage/Devam/mammo-clip-github/b5-model-best-epoch-7.tar\" \n",
    "  --data_frac 1.0 \n",
    "  --dataset 'RSNA' \n",
    "  --arch 'upmc_breast_clip_det_b5_period_n_lp' \n",
    "  --label \"BIRADS\" \n",
    "  --epochs 30 \n",
    "  --batch-size 128 \n",
    "  --num-workers 8 \n",
    "  --print-freq 10000 \n",
    "  --log-freq 500 \n",
    "  --running-interactive 'n'  \n",
    "  --n_folds 1 \n",
    "  --lr 5.0e-5 \n",
    "  --weighted-BCE 'y' \n",
    "  --balanced-dataloader 'n'\n",
    "  --VER 'BIN'"
   ]
  },
  {
   "cell_type": "markdown",
   "metadata": {},
   "source": [
    "test"
   ]
  },
  {
   "cell_type": "code",
   "execution_count": null,
   "metadata": {},
   "outputs": [],
   "source": [
    "python ./src/codebase/train_classifier.py \n",
    "  --tensorboard-path '/mnt/storage/Devam/mammo-clip-github/tensorboard_logs'\n",
    "  --checkpoints '/mnt/storage/Devam/mammo-clip-github/checkpoints'\n",
    "  --output_path '/mnt/storage/Devam/mammo-clip-github/output'\n",
    "  --data-dir '/mnt/storage/Devam/mammo-clip-github/image_preprocessing-aisha/' \n",
    "  --img-dir 'rsna-stitched-images-512-flipped'  \n",
    "  --csv-file 'new-splits-csvs-density/test_folds_rsnalp_final.csv'\n",
    "  --clip_chk_pt_path \"/mnt/storage/Devam/mammo-clip-github/b5-model-best-epoch-7.tar\" \n",
    "  --data_frac 1.0 \n",
    "  --dataset 'RSNA' \n",
    "  --arch 'upmc_breast_clip_det_b5_period_n_lp' \n",
    "  --label \"density\" \n",
    "  --epochs 30 \n",
    "  --batch-size 128 \n",
    "  --num-workers 8 \n",
    "  --print-freq 100 \n",
    "  --log-freq 500 \n",
    "  --running-interactive 'n'\n",
    "  --start-fold 2  \n",
    "  --n_folds 3 \n",
    "  --lr 5.0e-5 \n",
    "  --weighted-BCE 'y' \n",
    "  --balanced-dataloader 'n'\n",
    "  --inference-mode 'y'"
   ]
  },
  {
   "cell_type": "markdown",
   "metadata": {},
   "source": [
    "train mlo"
   ]
  },
  {
   "cell_type": "code",
   "execution_count": null,
   "metadata": {},
   "outputs": [],
   "source": [
    "python ./src/codebase/train_classifier.py   --tensorboard-path '/mnt/storage/Devam/mammo-clip-github/tensorboard_logs_mlo'  --checkpoints '/mnt/storage/Devam/mammo-clip-github/checkpoints'  --output_path '/mnt/storage/Devam/mammo-clip-github/output-MLO'  --data-dir '/mnt/storage/Devam/mammo-clip-github/image_preprocessing-aisha/'   --img-dir 'rsna-stitched-images-512-flipped'    --csv-file 'new-splits-csvs-density/MLO_only/train_folds_rsnalp_final.csv'  --clip_chk_pt_path \"/mnt/storage/Devam/mammo-clip-github/b5-model-best-epoch-7.tar\"   --data_frac 1.0   --dataset 'RSNA'   --arch 'upmc_breast_clip_det_b5_period_n_lp'   --label \"density\"   --epochs 30   --batch-size 128   --num-workers 8   --print-freq 10000   --log-freq 500   --running-interactive 'n'  --n_folds 1  --lr 5.0e-5   --weighted-BCE 'y'   --balanced-dataloader 'n'  --inference-mode 'n' --device cuda:1 --VER '084MLO'"
   ]
  },
  {
   "cell_type": "markdown",
   "metadata": {},
   "source": [
    "test mlo"
   ]
  },
  {
   "cell_type": "code",
   "execution_count": null,
   "metadata": {},
   "outputs": [],
   "source": [
    "python ./src/codebase/train_classifier.py \n",
    "  --tensorboard-path '/mnt/storage/Devam/mammo-clip-github/tensorboard_logs'\n",
    "  --checkpoints '/mnt/storage/Devam/mammo-clip-github/checkpoints'\n",
    "  --output_path '/mnt/storage/Devam/mammo-clip-github/output-MLO'\n",
    "  --data-dir '/mnt/storage/Devam/mammo-clip-github/image_preprocessing-aisha/' \n",
    "  --img-dir 'rsna-stitched-images-512-flipped'  \n",
    "  --csv-file 'new-splits-csvs-density/MLO_only/test_folds_rsnalp_final.csv'\n",
    "  --clip_chk_pt_path \"/mnt/storage/Devam/mammo-clip-github/b5-model-best-epoch-7.tar\" \n",
    "  --data_frac 1.0 \n",
    "  --dataset 'RSNA' \n",
    "  --arch 'upmc_breast_clip_det_b5_period_n_lp' \n",
    "  --label \"density\" \n",
    "  --epochs 30 \n",
    "  --batch-size 128 \n",
    "  --num-workers 8 \n",
    "  --print-freq 100 \n",
    "  --log-freq 500 \n",
    "  --running-interactive 'n'\n",
    "  --start-fold 2  \n",
    "  --n_folds 3 \n",
    "  --lr 5.0e-5 \n",
    "  --weighted-BCE 'y' \n",
    "  --balanced-dataloader 'n'\n",
    "  --inference-mode 'y'\n",
    "  --VER '084MLO'"
   ]
  },
  {
   "cell_type": "markdown",
   "metadata": {},
   "source": [
    "Density"
   ]
  },
  {
   "cell_type": "code",
   "execution_count": null,
   "metadata": {},
   "outputs": [],
   "source": [
    "python ./src/codebase/train_classifier.py \n",
    "  --tensorboard-path '/mnt/storage/Devam/mammo-clip-github/tensorboard_logs'\n",
    "  --checkpoints '/mnt/storage/Devam/mammo-clip-github/checkpoints'\n",
    "  --output_path '/mnt/storage/Devam/mammo-clip-github/output'\n",
    "  --data-dir '/mnt/storage/Devam/mammo-clip-github/image_preprocessing-aisha/' \n",
    "  --img-dir 'rsna-stitched-images-512-flipped'  \n",
    "  --csv-file 'new-splits-csvs-density/train_folds_rsnalp_final.csv'\n",
    "  --clip_chk_pt_path \"/mnt/storage/Devam/mammo-clip-github/b5-model-best-epoch-7.tar\" \n",
    "  --data_frac 1.0 \n",
    "  --dataset 'RSNA' \n",
    "  --arch 'upmc_breast_clip_det_b5_period_n_lp' \n",
    "  --label \"density\" \n",
    "  --epochs 30 \n",
    "  --batch-size 128 \n",
    "  --num-workers 8 \n",
    "  --print-freq 10000 \n",
    "  --log-freq 500 \n",
    "  --running-interactive 'n'\n",
    "  --n_folds 1\n",
    "  --lr 5.0e-5 \n",
    "  --weighted-BCE 'y' \n",
    "  --balanced-dataloader 'n'\n",
    "  --inference-mode 'n'"
   ]
  },
  {
   "cell_type": "markdown",
   "metadata": {},
   "source": []
  },
  {
   "cell_type": "code",
   "execution_count": 27,
   "metadata": {},
   "outputs": [],
   "source": [
    "import argparse\n",
    "from Datasets.dataset_utils import get_dataloader_RSNA\n",
    "import pandas as pd\n",
    "from pathlib import Path\n",
    "\n",
    "# Define the dictionary\n",
    "args_dict = {\n",
    "    'tensorboard_path': '/mnt/storage/Devam/mammo-clip-github/tensorboard_logs',\n",
    "    'checkpoints': '/mnt/storage/Devam/mammo-clip-github/checkpoints',\n",
    "    'output_path': '/mnt/storage/Devam/mammo-clip-github/output',\n",
    "    'data_dir': '/mnt/storage/Devam/mammo-clip-github/image_preprocessing-aisha/',\n",
    "    'img_dir': 'rsna-stitched-images-512-flipped',\n",
    "    'csv_file': 'train_folds_rsnalp_final.csv',\n",
    "    'clip_chk_pt_path': '/mnt/storage/Devam/mammo-clip-github/b5-model-best-epoch-7.tar',\n",
    "    'data_frac': 1.0,\n",
    "    'dataset': 'RSNA',\n",
    "    'arch': 'upmc_breast_clip_det_b5_period_n_lp',\n",
    "    'label': 'BIRADS',\n",
    "    'epochs': 30,\n",
    "    'batch_size': 128,\n",
    "    'num_workers': 8,\n",
    "    'print_freq': 10000,\n",
    "    'log_freq': 500,\n",
    "    'running_interactive': 'n',\n",
    "    'n_folds': 1,\n",
    "    'lr': 5.0e-5,\n",
    "    'model_type': 'Classifier',\n",
    "    'weighted_BCE': 'y',\n",
    "    'balanced_dataloader': 'n',\n",
    "    'img_size': [1920, 512],\n",
    "    'swin_encoder': 'microsoft/swin-tiny-patch4-window7-224',\n",
    "    'pretrained_swin_encoder': 'y',\n",
    "    'swin_model_type': 'y',\n",
    "    'VER': '084',\n",
    "    'epochs_warmup': 0,\n",
    "    'num_cycles': 0.5,\n",
    "    'alpha': 10,\n",
    "    'sigma': 15,\n",
    "    'p': 1.0,\n",
    "    'mean': 0.3089279,\n",
    "    'std': 0.25053555408335154,\n",
    "    'focal_alpha': 0.6,\n",
    "    'focal_gamma': 2.0,\n",
    "    'num_classes': 1,\n",
    "    'start_fold': 0,\n",
    "    'seed': 10,\n",
    "    'weight_decay': 1e-4,\n",
    "    'warmup_epochs': 1,\n",
    "    'device': 'cuda',\n",
    "    'apex': 'y',\n",
    "    'inference_mode': 'n'\n",
    "\n",
    "}\n",
    "\n",
    "# Create the static args object\n",
    "args = argparse.Namespace(**args_dict)\n",
    "args.data_dir = Path(args.data_dir)\n",
    "args.mode = 'test'\n",
    "# args.image_encoder_type = None\n",
    "# args.valid_folds = pd.read_csv('/mnt/storage/Devam/mammo-clip-github/Mammo-CLIP/src/codebase/data_csv/test_folds_rsnalp_final.csv')\n",
    "# val_loader = get_dataloader_RSNA(args)\n"
   ]
  },
  {
   "cell_type": "code",
   "execution_count": 14,
   "metadata": {},
   "outputs": [
    {
     "data": {
      "text/plain": [
       "dict_keys(['model', 'predictions', 'epoch', 'accuracy', 'f1'])"
      ]
     },
     "execution_count": 14,
     "metadata": {},
     "output_type": "execute_result"
    }
   ],
   "source": [
    "import torch\n",
    "m = torch.load('/mnt/storage/Devam/mammo-clip-github/checkpoints/RSNA/Classifier/upmc_breast_clip_det_b5_period_n_lp/lr_5e-05_epochs_30_weighted_BCE_y_BIRADS_data_frac_1.0/upmc_breast_clip_det_b5_period_n_lp_seed_10_fold0_best_acc_cancer_ver084.pth')\n",
    "m.keys()"
   ]
  },
  {
   "cell_type": "code",
   "execution_count": 31,
   "metadata": {},
   "outputs": [
    {
     "data": {
      "text/plain": [
       "<All keys matched successfully>"
      ]
     },
     "execution_count": 31,
     "metadata": {},
     "output_type": "execute_result"
    }
   ],
   "source": [
    "model.load_state_dict(m['model'])"
   ]
  },
  {
   "cell_type": "markdown",
   "metadata": {},
   "source": [
    "#### Checkpoint model"
   ]
  },
  {
   "cell_type": "code",
   "execution_count": 5,
   "metadata": {},
   "outputs": [
    {
     "name": "stdout",
     "output_type": "stream",
     "text": [
      "/mnt/storage/Devam/mammo-clip-github/Mammo-CLIP/src/codebase\n"
     ]
    }
   ],
   "source": [
    "%cd /mnt/storage/Devam/mammo-clip-github/Mammo-CLIP/src/codebase"
   ]
  },
  {
   "cell_type": "code",
   "execution_count": 21,
   "metadata": {},
   "outputs": [],
   "source": [
    "from Classifiers.models.breast_clip_classifier import BreastClipClassifier"
   ]
  },
  {
   "cell_type": "code",
   "execution_count": 23,
   "metadata": {},
   "outputs": [],
   "source": [
    "ckpt = '/mnt/storage/Devam/mammo-clip-github/b5-model-best-epoch-7.tar'\n",
    "n_class = 3"
   ]
  },
  {
   "cell_type": "code",
   "execution_count": 24,
   "metadata": {},
   "outputs": [],
   "source": [
    "import torch\n",
    "model = torch.load(ckpt,map_location=\"cpu\")"
   ]
  },
  {
   "cell_type": "code",
   "execution_count": null,
   "metadata": {},
   "outputs": [
    {
     "data": {
      "text/plain": [
       "{'base': {'period': 'n',\n",
       "  'resume_training': False,\n",
       "  'epoch_to_start': 0,\n",
       "  'train_fast': False,\n",
       "  'fold': 0,\n",
       "  'seed': 10,\n",
       "  'amp': True,\n",
       "  'mean': 0.3089279,\n",
       "  'std': 0.25053555408335154,\n",
       "  'image_size_h': 1520,\n",
       "  'image_size_w': 912,\n",
       "  'text_max_length': 256,\n",
       "  'loss_best': 'contrastive',\n",
       "  'data_frac': 1.0,\n",
       "  'zs_prompts': {'upmc': ['birads category 0', 'birads category 1', 'birads category 2'],\n",
       "   'rsna': ['no malignancy', 'malignancy']},\n",
       "  'output': {'args_path': '/ocean/projects/asc170022p/shg121/PhD/Breast-CLIP/src/codebase/outputs/upmc_clip/b5_detector_period_n',\n",
       "   'checkpoint': '/ocean/projects/asc170022p/shg121/PhD/Breast-CLIP/src/codebase/outputs/upmc_clip/b5_detector_period_n/checkpoints/',\n",
       "   'tensorboard': '/ocean/projects/asc170022p/shg121/PhD/Breast-CLIP/src/codebase/outputs/upmc_clip/b5_detector_period_n/tensorboard/'}},\n",
       " 'data_train': {'upmc_wo_period': {'name': 'upmc',\n",
       "   'data_type': 'imagetext',\n",
       "   'data_dir': '/ocean/projects/asc170022p/shg121/PhD/RSNA_Breast_Imaging/Dataset',\n",
       "   'img_dir': 'External/UPMC/DICOM/images_png_CC_MLO',\n",
       "   'data_path': 'External/UPMC/upmc_breast_clip_without_period_lower_case.csv',\n",
       "   'text_max_length': 256,\n",
       "   'data_frac': 1.0}},\n",
       " 'data_zs': {'upmc_zs': {'name': 'upmc',\n",
       "   'data_type': 'image_classification',\n",
       "   'data_dir': '/ocean/projects/asc170022p/shg121/PhD/RSNA_Breast_Imaging/Dataset',\n",
       "   'img_dir': 'External/UPMC/DICOM/images_png_CC_MLO',\n",
       "   'data_path': 'External/UPMC/upmc_dicom_consolidated_final_folds_BIRADS_num_1_report.csv',\n",
       "   'text_max_length': 256,\n",
       "   'data_frac': 1.0,\n",
       "   'label_col': 'BIRADS_numeric'}},\n",
       " 'dataloader': {'train': {'pin_memory': True,\n",
       "   'shuffle': True,\n",
       "   'drop_last': True,\n",
       "   'num_workers': 0,\n",
       "   'prefetch_factor': 2,\n",
       "   'batch_size': 4},\n",
       "  'valid': {'pin_memory': True,\n",
       "   'shuffle': False,\n",
       "   'drop_last': False,\n",
       "   'num_workers': 0,\n",
       "   'prefetch_factor': 2,\n",
       "   'batch_size': 4},\n",
       "  'test': {'pin_memory': True,\n",
       "   'shuffle': False,\n",
       "   'drop_last': False,\n",
       "   'num_workers': 4,\n",
       "   'batch_size': 6}},\n",
       " 'tokenizer': {'source': 'huggingface',\n",
       "  'pretrained_model_name_or_path': 'emilyalsentzer/Bio_ClinicalBERT',\n",
       "  'cache_dir': '/ocean/projects/asc170022p/shg121/PhD/Breast-CLIP/src/codebase/outputs/huggingface/tokenizers'},\n",
       " 'transform': {'train': {'Resize': {'size_h': 1520, 'size_w': 912},\n",
       "   'transform': {'affine_transform_degree': 20,\n",
       "    'affine_translate_percent': 0.1,\n",
       "    'affine_scale': [0.8, 1.2],\n",
       "    'affine_shear': 20,\n",
       "    'elastic_transform_alpha': 10,\n",
       "    'elastic_transform_sigma': 15,\n",
       "    'p': 1.0}},\n",
       "  'valid': {'Resize': {'size_h': 1520, 'size_w': 912}},\n",
       "  'test': {'Resize': {'size_h': 1520, 'size_w': 912}}},\n",
       " 'model': {'name': 'clip_custom',\n",
       "  'temperature': 0.07,\n",
       "  'image_encoder': {'source': 'cnn',\n",
       "   'name': 'tf_efficientnet_b5_ns-detect',\n",
       "   'pretrained': True,\n",
       "   'model_type': 'cnn'},\n",
       "  'text_encoder': {'source': 'huggingface',\n",
       "   'name': 'emilyalsentzer/Bio_ClinicalBERT',\n",
       "   'pretrained': True,\n",
       "   'gradient_checkpointing': False,\n",
       "   'pooling': 'eos',\n",
       "   'cache_dir': '/ocean/projects/asc170022p/shg121/PhD/Breast-CLIP/src/codebase/outputs/huggingface/',\n",
       "   'trust_remote_code': True,\n",
       "   'mlm_head': True},\n",
       "  'projection_head': {'name': 'linear', 'dropout': 0.1, 'proj_dim': 512}},\n",
       " 'optimizer': {'name': 'adamw',\n",
       "  'config': {'lr': 5e-05, 'weight_decay': 0.0001}},\n",
       " 'scheduler': {'name': 'cosine',\n",
       "  'config': {'total_epochs': 15,\n",
       "   'warmup_epochs': 1,\n",
       "   'total_steps': 73485,\n",
       "   'warmup_steps': 4899}},\n",
       " 'loss': {'breast_clip': {'label_smoothing': 0.0,\n",
       "   'i2i_weight': 1.0,\n",
       "   't2t_weight': 0.5,\n",
       "   'loss_ratio': 1.0}}}"
      ]
     },
     "metadata": {},
     "output_type": "display_data"
    }
   ],
   "source": [
    "model['config']"
   ]
  },
  {
   "cell_type": "code",
   "execution_count": 28,
   "metadata": {},
   "outputs": [
    {
     "name": "stdout",
     "output_type": "stream",
     "text": [
      "{'source': 'cnn', 'name': 'tf_efficientnet_b5_ns-detect', 'pretrained': True, 'model_type': 'cnn'}\n",
      "<All keys matched successfully>\n",
      "Loaded pretrained weights for efficientnet-b5\n",
      "freezing image encoder to not be trained\n"
     ]
    }
   ],
   "source": [
    "model = BreastClipClassifier(ckpt=model, n_class=n_class,args=args)\n"
   ]
  },
  {
   "cell_type": "code",
   "execution_count": null,
   "metadata": {},
   "outputs": [
    {
     "data": {
      "text/plain": [
       "{'source': 'cnn',\n",
       " 'name': 'tf_efficientnet_b5_ns-detect',\n",
       " 'pretrained': True,\n",
       " 'model_type': 'cnn'}"
      ]
     },
     "metadata": {},
     "output_type": "display_data"
    }
   ],
   "source": [
    "model[\"config\"][\"model\"][\"image_encoder\"]"
   ]
  },
  {
   "cell_type": "markdown",
   "metadata": {},
   "source": [
    "### Dataset folds, splits  train val and test."
   ]
  },
  {
   "cell_type": "code",
   "execution_count": 6,
   "metadata": {},
   "outputs": [
    {
     "name": "stdout",
     "output_type": "stream",
     "text": [
      "fold  BIRADS\n",
      "0     1.0       3919\n",
      "      0.0       2059\n",
      "      2.0        570\n",
      "1     1.0       3937\n",
      "      0.0       2039\n",
      "      2.0        550\n",
      "2     1.0       3952\n",
      "      0.0       2047\n",
      "      2.0        576\n",
      "3     1.0       3964\n",
      "      0.0       2104\n",
      "      2.0        569\n",
      "Name: count, dtype: int64\n"
     ]
    }
   ],
   "source": [
    "birads_distribution = df.groupby('fold')['BIRADS'].value_counts()\n",
    "print(birads_distribution)"
   ]
  },
  {
   "cell_type": "code",
   "execution_count": 7,
   "metadata": {},
   "outputs": [
    {
     "data": {
      "text/plain": [
       "fold\n",
       "3    13766\n",
       "0    13682\n",
       "2    13646\n",
       "1    13612\n",
       "Name: count, dtype: int64"
      ]
     },
     "execution_count": 7,
     "metadata": {},
     "output_type": "execute_result"
    }
   ],
   "source": [
    "df.fold.value_counts()"
   ]
  },
  {
   "cell_type": "code",
   "execution_count": 22,
   "metadata": {},
   "outputs": [
    {
     "data": {
      "text/plain": [
       "fold\n",
       "3    6637\n",
       "2    6575\n",
       "0    6548\n",
       "1    6526\n",
       "Name: count, dtype: int64"
      ]
     },
     "execution_count": 22,
     "metadata": {},
     "output_type": "execute_result"
    }
   ],
   "source": [
    "df.dropna(subset=['BIRADS'])['fold'].value_counts()"
   ]
  },
  {
   "cell_type": "code",
   "execution_count": 11,
   "metadata": {},
   "outputs": [
    {
     "data": {
      "text/plain": [
       "(26286, 15)"
      ]
     },
     "execution_count": 11,
     "metadata": {},
     "output_type": "execute_result"
    }
   ],
   "source": [
    "df.dropna(subset=['BIRADS']).shape"
   ]
  },
  {
   "cell_type": "markdown",
   "metadata": {},
   "source": [
    "check all patients in different folds"
   ]
  },
  {
   "cell_type": "code",
   "execution_count": 23,
   "metadata": {},
   "outputs": [
    {
     "data": {
      "text/plain": [
       "patient_id\n",
       "5        1\n",
       "25       1\n",
       "28       1\n",
       "30       1\n",
       "33       1\n",
       "        ..\n",
       "65518    1\n",
       "65525    1\n",
       "65526    1\n",
       "65530    1\n",
       "65534    1\n",
       "Name: fold, Length: 11913, dtype: int64"
      ]
     },
     "execution_count": 23,
     "metadata": {},
     "output_type": "execute_result"
    }
   ],
   "source": [
    "df.groupby('patient_id')['fold'].nunique()"
   ]
  },
  {
   "cell_type": "markdown",
   "metadata": {},
   "source": [
    "Load stitched images csv/df ."
   ]
  },
  {
   "cell_type": "code",
   "execution_count": 2,
   "metadata": {},
   "outputs": [],
   "source": [
    "df_bilat = pd.read_csv('/mnt/storage/Devam/mammo-clip-github/image_preprocessing-aisha/rsna_stitched_images-flipped.csv')"
   ]
  },
  {
   "cell_type": "code",
   "execution_count": 4,
   "metadata": {},
   "outputs": [],
   "source": [
    "df_bilat['fold'] = 1"
   ]
  },
  {
   "cell_type": "code",
   "execution_count": 5,
   "metadata": {},
   "outputs": [],
   "source": [
    "df_bilat['fold'] = df_bilat['patient_id'].apply(lambda x: df[df['patient_id'] == x]['fold'].iloc[0])"
   ]
  },
  {
   "cell_type": "code",
   "execution_count": 79,
   "metadata": {},
   "outputs": [
    {
     "name": "stdout",
     "output_type": "stream",
     "text": [
      "BIRADS\n",
      "1.0    10694\n",
      "0.0     9661\n",
      "2.0     2185\n",
      "Name: count, dtype: int64\n"
     ]
    }
   ],
   "source": [
    "print( df_bilat['BIRADS'].value_counts())"
   ]
  },
  {
   "cell_type": "code",
   "execution_count": 82,
   "metadata": {},
   "outputs": [
    {
     "name": "stdout",
     "output_type": "stream",
     "text": [
      "dist before dropping : \n",
      " fold\n",
      "3    8421\n",
      "0    8307\n",
      "2    8238\n",
      "1    8148\n",
      "Name: count, dtype: int64 \n",
      " after dropping \n",
      " fold\n",
      "3    5783\n",
      "0    5656\n",
      "2    5600\n",
      "1    5501\n",
      "Name: count, dtype: int64\n"
     ]
    }
   ],
   "source": [
    "print(\"dist before dropping : \\n\"  , df_bilat['fold'].value_counts(), \"\\n after dropping \\n\", df_bilat.dropna(subset=['BIRADS'])['fold'].value_counts())"
   ]
  },
  {
   "cell_type": "markdown",
   "metadata": {},
   "source": [
    "#### Drop and split data frame"
   ]
  },
  {
   "cell_type": "markdown",
   "metadata": {},
   "source": [
    "80,10,10 split"
   ]
  },
  {
   "cell_type": "code",
   "execution_count": 31,
   "metadata": {},
   "outputs": [
    {
     "name": "stdout",
     "output_type": "stream",
     "text": [
      "fold\n",
      "0    2207\n",
      "Name: count, dtype: int64\n",
      "fold\n",
      "2    2323\n",
      "Name: count, dtype: int64\n",
      "fold\n",
      "1    18010\n",
      "Name: count, dtype: int64\n",
      "Number of leaked patients: 0\n"
     ]
    }
   ],
   "source": [
    "import pandas as pd\n",
    "from sklearn.model_selection import train_test_split\n",
    "\n",
    "# Drop rows where 'BIRADS' is NaN\n",
    "df_bilat_clean = df_bilat.dropna(subset=['BIRADS'])\n",
    "\n",
    "# Get unique patient IDs\n",
    "unique_patient_ids = df_bilat_clean['patient_id'].unique()\n",
    "\n",
    "# Calculate sizes for train, validation, and test sets\n",
    "total_patients = len(unique_patient_ids)\n",
    "train_size = int(0.8 * total_patients)\n",
    "val_size = int(0.1 * total_patients)\n",
    "test_size = total_patients - train_size - val_size  # The rest will go to test\n",
    "\n",
    "# Split patient IDs into train, validation, and test sets\n",
    "train_patient_ids, remaining_patient_ids = train_test_split(unique_patient_ids, train_size=train_size, random_state=42)\n",
    "test_patient_ids, val_patient_ids = train_test_split(remaining_patient_ids, test_size=test_size, random_state=42)\n",
    "\n",
    "# Assign folds based on patient IDs\n",
    "train_df = df_bilat_clean[df_bilat_clean['patient_id'].isin(train_patient_ids)].copy()\n",
    "val_df = df_bilat_clean[df_bilat_clean['patient_id'].isin(val_patient_ids)].copy()\n",
    "test_df = df_bilat_clean[df_bilat_clean['patient_id'].isin(test_patient_ids)].copy()\n",
    "\n",
    "# Assign new folds\n",
    "train_df['fold'] = 1\n",
    "val_df['fold'] = 0\n",
    "test_df['fold'] = 2\n",
    "\n",
    "df_train = pd.concat([train_df,val_df])\n",
    "\n",
    "# Output value counts to verify\n",
    "print(val_df['fold'].value_counts())\n",
    "print(test_df['fold'].value_counts())\n",
    "print(train_df['fold'].value_counts())\n",
    "\n",
    "# Check for patient ID leakage\n",
    "train_patients = set(train_df['patient_id'])\n",
    "val_patients = set(val_df['patient_id'])\n",
    "test_patients = set(test_df['patient_id'])\n",
    "# leaked_patients = train_patients.intersection(val_patients, test_patients)\n",
    "# print(f\"Number of leaked patients: {len(leaked_patients)}\")\n",
    "leaked_patients = train_patients.intersection(val_patients).union(train_patients.intersection(test_patients)).union(val_patients.intersection(test_patients))\n",
    "print(f\"Number of leaked patients: {len(leaked_patients)}\")"
   ]
  },
  {
   "cell_type": "code",
   "execution_count": 32,
   "metadata": {},
   "outputs": [],
   "source": [
    "df_train.to_csv('/mnt/storage/Devam/mammo-clip-github/image_preprocessing-aisha/new-splits-csvs/train_folds_rsnalp_final.csv', index=False)\n",
    "test_df.to_csv('/mnt/storage/Devam/mammo-clip-github/image_preprocessing-aisha/new-splits-csvs/test_folds_rsnalp_final.csv', index=False)\n"
   ]
  },
  {
   "cell_type": "markdown",
   "metadata": {},
   "source": [
    " 70 30 30 split"
   ]
  },
  {
   "cell_type": "code",
   "execution_count": 10,
   "metadata": {},
   "outputs": [
    {
     "name": "stdout",
     "output_type": "stream",
     "text": [
      "fold\n",
      "0    2891\n",
      "Name: count, dtype: int64 fold\n",
      "2    2892\n",
      "Name: count, dtype: int64 fold\n",
      "1    16757\n",
      "Name: count, dtype: int64\n",
      "Leaked patients: []\n",
      "Train set shape: 16757\n",
      "Validation set shape: 2891\n",
      "Test set shape: 2892\n"
     ]
    },
    {
     "name": "stderr",
     "output_type": "stream",
     "text": [
      "/tmp/ipykernel_2658092/154039378.py:6: SettingWithCopyWarning: \n",
      "A value is trying to be set on a copy of a slice from a DataFrame.\n",
      "Try using .loc[row_indexer,col_indexer] = value instead\n",
      "\n",
      "See the caveats in the documentation: https://pandas.pydata.org/pandas-docs/stable/user_guide/indexing.html#returning-a-view-versus-a-copy\n",
      "  train_df['fold'] = 1\n"
     ]
    }
   ],
   "source": [
    "# Split the data into train, validation, and test sets\n",
    "df_bilat_clean = df_bilat.dropna(subset=['BIRADS'])\n",
    "train_df = df_bilat_clean[df_bilat_clean['fold'].isin([0, 1, 2])]\n",
    "test_df = df_bilat_clean[df_bilat_clean['fold'] == 3].sample(frac=0.5, random_state=42)\n",
    "val_df = df_bilat_clean[df_bilat_clean['fold'] == 3].drop(test_df.index)\n",
    "train_df['fold'] = 1\n",
    "val_df['fold'] = 0\n",
    "test_df['fold'] = 2\n",
    "df_train = pd.concat([train_df,val_df])\n",
    "print(val_df['fold'].value_counts(), test_df['fold'].value_counts(), train_df['fold'].value_counts())\n",
    "# Check for patient ID leakage\n",
    "train_patients = set(train_df['patient_id'])\n",
    "val_patients = set(val_df['patient_id'])\n",
    "test_patients = set(test_df['patient_id'])\n",
    "\n",
    "leaked_patients = train_patients.intersection(val_patients, test_patients)\n",
    "print(\"Leaked patients:\", list(leaked_patients))\n",
    "\n",
    "print(\"Train set shape:\", train_df.shape[0])\n",
    "print(\"Validation set shape:\", val_df.shape[0])\n",
    "print(\"Test set shape:\", test_df.shape[0])\n",
    "\n"
   ]
  },
  {
   "cell_type": "markdown",
   "metadata": {},
   "source": [
    "#### save to csv\n"
   ]
  },
  {
   "cell_type": "code",
   "execution_count": 119,
   "metadata": {},
   "outputs": [],
   "source": [
    "df_train.to_csv('/mnt/storage/Devam/mammo-clip-github/image_preprocessing-aisha/train_folds_rsnalp_final.csv', index=False)"
   ]
  },
  {
   "cell_type": "code",
   "execution_count": 120,
   "metadata": {},
   "outputs": [],
   "source": [
    "test_df.to_csv('/mnt/storage/Devam/mammo-clip-github/image_preprocessing-aisha/test_folds_rsnalp_final.csv', index=False)"
   ]
  },
  {
   "cell_type": "code",
   "execution_count": 3,
   "metadata": {},
   "outputs": [],
   "source": [
    "df_train = pd.read_csv('/mnt/storage/Devam/mammo-clip-github/image_preprocessing-aisha/train_folds_rsnalp_final.csv')\n",
    "test_df = pd.read_csv('/mnt/storage/Devam/mammo-clip-github/image_preprocessing-aisha/test_folds_rsnalp_final.csv')"
   ]
  },
  {
   "cell_type": "code",
   "execution_count": 15,
   "metadata": {},
   "outputs": [
    {
     "name": "stdout",
     "output_type": "stream",
     "text": [
      "BIRADS\n",
      "1.0    9366\n",
      "0.0    8388\n",
      "2.0    1894\n",
      "Name: count, dtype: int64 BIRADS\n",
      "1.0    1328\n",
      "0.0    1273\n",
      "2.0     291\n",
      "Name: count, dtype: int64\n"
     ]
    }
   ],
   "source": [
    "print(df_train['BIRADS'].value_counts(),test_df.BIRADS.value_counts())"
   ]
  },
  {
   "cell_type": "code",
   "execution_count": 17,
   "metadata": {},
   "outputs": [
    {
     "name": "stdout",
     "output_type": "stream",
     "text": [
      "Namespace(VER='084', alpha=10, apex=True, arch='upmc_breast_clip_det_b5_period_n_lp', balanced_dataloader='n', batch_size=128, checkpoints='/mnt/storage/Devam/mammo-clip-github/checkpoints', chk_pt_path=PosixPath('/mnt/storage/Devam/mammo-clip-github/checkpoints/RSNA/Classifier/upmc_breast_clip_det_b5_period_n_lp/lr_5e-05_epochs_30_weighted_BCE_y_BIRADS_data_frac_1.0'), clip_chk_pt_path='/mnt/storage/Devam/mammo-clip-github/b5-model-best-epoch-7.tar', csv_file='test_folds_rsnalp_final.csv', data_dir='/mnt/storage/Devam/mammo-clip-github/image_preprocessing-aisha/', data_frac=1.0, dataset='RSNA', detector_threshold=0.1, device='cuda', epochs=30, epochs_warmup=0, focal_alpha=0.6, focal_gamma=2.0, img_dir='rsna-stitched-images-512-flipped', img_size=[1520, 912], inference_mode='y', label='BIRADS', log_freq=500, lr=5e-05, mean=0.3089279, model_type='Classifier', n_folds=3, num_classes=1, num_cycles=0.5, num_workers=8, output_path=PosixPath('/mnt/storage/Devam/mammo-clip-github/output/RSNA/zz/Classifier/upmc_breast_clip_det_b5_period_n_lp/lr_5e-05_epochs_30_weighted_BCE_y_BIRADS_data_frac_1.0'), p=1.0, pretrained_swin_encoder=True, print_freq=100, root='lr_5e-05_epochs_30_weighted_BCE_y_BIRADS_data_frac_1.0', running_interactive=False, seed=10, sigma=15, start_fold=2, std=0.25053555408335154, swin_encoder='microsoft/swin-tiny-patch4-window7-224', swin_model_type=True, tb_logs_path=PosixPath('/mnt/storage/Devam/mammo-clip-github/tensorboard_logs/RSNA/Classifier/upmc_breast_clip_det_b5_period_n_lp/lr_5e-05_epochs_30_weighted_BCE_y_BIRADS_data_frac_1.0'), tensorboard_path='/mnt/storage/Devam/mammo-clip-github/tensorboard_logs', warmup_epochs=1, weight_decay=0.0001, weighted_BCE='y')\n"
     ]
    }
   ],
   "source": [
    "import pickle\n",
    "\n",
    "# Specify the path to the config pickle file\n",
    "config_file = '/mnt/storage/Devam/mammo-clip-github/output/RSNA/zz/Classifier/upmc_breast_clip_det_b5_period_n_lp/lr_5e-05_epochs_30_weighted_BCE_y_BIRADS_data_frac_1.0/seed_10_train_configs.pkl'\n",
    "\n",
    "# Read the config pickle file\n",
    "with open(config_file, 'rb') as f:\n",
    "    config = pickle.load(f)\n",
    "\n",
    "# Access the config variables\n",
    "# Example: print the value of a variable named 'model_type'\n",
    "print(config)"
   ]
  },
  {
   "cell_type": "markdown",
   "metadata": {},
   "source": [
    "#### check patients "
   ]
  },
  {
   "cell_type": "code",
   "execution_count": 97,
   "metadata": {},
   "outputs": [
    {
     "data": {
      "text/plain": [
       "8931"
      ]
     },
     "execution_count": 97,
     "metadata": {},
     "output_type": "execute_result"
    }
   ],
   "source": [
    "train_df['patient_id'].nunique()"
   ]
  },
  {
   "cell_type": "code",
   "execution_count": 98,
   "metadata": {},
   "outputs": [
    {
     "data": {
      "text/plain": [
       "4312"
      ]
     },
     "execution_count": 98,
     "metadata": {},
     "output_type": "execute_result"
    }
   ],
   "source": [
    "len(set(train_df['patient_id'].unique()) - set(val_df['patient_id'].unique()))"
   ]
  },
  {
   "cell_type": "markdown",
   "metadata": {},
   "source": [
    "Missing patients ? "
   ]
  },
  {
   "cell_type": "code",
   "execution_count": 66,
   "metadata": {},
   "outputs": [
    {
     "data": {
      "text/plain": [
       "31"
      ]
     },
     "execution_count": 66,
     "metadata": {},
     "output_type": "execute_result"
    }
   ],
   "source": [
    "len(set(df['patient_id']) - set(df_bilat['patient_id']))"
   ]
  },
  {
   "cell_type": "code",
   "execution_count": 65,
   "metadata": {},
   "outputs": [
    {
     "data": {
      "text/plain": [
       "patient_id  view\n",
       "886         CC      1\n",
       "            MLO     1\n",
       "7002        CC      1\n",
       "            MLO     1\n",
       "7927        CC      1\n",
       "                   ..\n",
       "59884       MLO     1\n",
       "60981       CC      1\n",
       "            MLO     1\n",
       "63890       CC      1\n",
       "            MLO     1\n",
       "Name: updated_lat, Length: 63, dtype: int64"
      ]
     },
     "execution_count": 65,
     "metadata": {},
     "output_type": "execute_result"
    }
   ],
   "source": [
    "df_corrected = pd.read_csv('/mnt/storage/Devam/mammo-clip-github/image_preprocessing-aisha/train_corrected.csv')\n",
    "df_corrected['updated_lat'] = df_corrected.apply(lambda x: 'R' if x['incorrect_laterality'] == True and x['laterality'] == 'L' else ('L' if x['incorrect_laterality'] == True and x['laterality'] == 'R' else x['laterality']), axis=1)\n",
    "df_corrected[df_corrected['patient_id'].isin(list(set(df['patient_id']) - set(df_bilat['patient_id'])))].groupby(['patient_id','view'])['updated_lat'].nunique()"
   ]
  },
  {
   "cell_type": "markdown",
   "metadata": {},
   "source": [
    "31 Patients with only one laterality present."
   ]
  }
 ],
 "metadata": {
  "kernelspec": {
   "display_name": "Mammo-CLIP",
   "language": "python",
   "name": "python3"
  },
  "language_info": {
   "codemirror_mode": {
    "name": "ipython",
    "version": 3
   },
   "file_extension": ".py",
   "mimetype": "text/x-python",
   "name": "python",
   "nbconvert_exporter": "python",
   "pygments_lexer": "ipython3",
   "version": "3.8.18"
  }
 },
 "nbformat": 4,
 "nbformat_minor": 2
}
